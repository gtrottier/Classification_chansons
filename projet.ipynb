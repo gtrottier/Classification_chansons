{
  "nbformat": 4,
  "nbformat_minor": 5,
  "metadata": {
    "colab": {
      "name": "projet.ipynb",
      "provenance": [],
      "collapsed_sections": [],
      "machine_shape": "hm"
    },
    "kernelspec": {
      "display_name": "Python 3",
      "language": "python",
      "name": "python3"
    },
    "language_info": {
      "codemirror_mode": {
        "name": "ipython",
        "version": 3
      },
      "file_extension": ".py",
      "mimetype": "text/x-python",
      "name": "python",
      "nbconvert_exporter": "python",
      "pygments_lexer": "ipython3",
      "version": "3.7.6"
    }
  },
  "cells": [
    {
      "cell_type": "markdown",
      "metadata": {
        "id": "xfP0Hl6TxW9x"
      },
      "source": [
        "(1) Le but de ce projet est de déterminer le *genre musical* d'une chanson en nous basant principalement sur ses paroles. Il s'agit donc d'un cas de classification, puisque l'on cherche la 'classe' (genre musicale) à laquelle appartient une chanson et non d'un régression (extrapolation de valeurs continues).\n",
        "\n",
        "Bien qu'en réalité le nombre de genres musicaux soit grand, voire très grand selon ce qu'on entend par 'genre', les chansons du jeu de données sont regroupées en 11 genres assez larges comme 'Hip Hop', 'Rock' etc., ce qui réduit le nombre de classes possibles et donc devrait rendre la classification plus facile."
      ],
      "id": "xfP0Hl6TxW9x"
    },
    {
      "cell_type": "code",
      "metadata": {
        "colab": {
          "base_uri": "https://localhost:8080/"
        },
        "id": "OBnRjebG1rU5",
        "outputId": "549f9b31-9481-43ec-a350-722f1bd458f0"
      },
      "source": [
        "import itertools\n",
        "\n",
        "# regular expressions\n",
        "import re\n",
        "\n",
        "# Pour la lecture du fichier csv\n",
        "import requests, zipfile, io\n",
        "\n",
        "import pandas as pd\n",
        "import matplotlib.pyplot as plt\n",
        "import numpy as np\n",
        "import seaborn as sns\n",
        "import scipy\n",
        "\n",
        "import nltk\n",
        "\n",
        "from nltk.corpus import wordnet\n",
        "from nltk.stem import WordNetLemmatizer, PorterStemmer\n",
        "\n",
        "nltk.download('stopwords')\n",
        "nltk.download('punkt')\n",
        "nltk.download('wordnet')\n",
        "nltk.download('averaged_perceptron_tagger')\n",
        "\n",
        "from sklearn.model_selection import train_test_split as tts\n",
        "\n",
        "from sklearn.feature_extraction.text import TfidfVectorizer\n",
        "from sklearn.feature_extraction.text import CountVectorizer\n",
        "\n",
        "from sklearn import preprocessing, metrics, pipeline, tree, ensemble, naive_bayes\n",
        "\n",
        "# Permet de décontracter les mots comme \"you're\" en \"you are\"\n",
        "!pip install contractions\n",
        "import contractions\n",
        "import time\n",
        "!pip install memory_profiler\n",
        "%load_ext memory_profiler\n",
        "\n",
        "# Pour faire le tableau comparatif des temps d'éxécution\n",
        "import plotly.graph_objects as go"
      ],
      "id": "OBnRjebG1rU5",
      "execution_count": null,
      "outputs": [
        {
          "output_type": "stream",
          "text": [
            "[nltk_data] Downloading package stopwords to /root/nltk_data...\n",
            "[nltk_data]   Package stopwords is already up-to-date!\n",
            "[nltk_data] Downloading package punkt to /root/nltk_data...\n",
            "[nltk_data]   Package punkt is already up-to-date!\n",
            "[nltk_data] Downloading package wordnet to /root/nltk_data...\n",
            "[nltk_data]   Package wordnet is already up-to-date!\n",
            "[nltk_data] Downloading package averaged_perceptron_tagger to\n",
            "[nltk_data]     /root/nltk_data...\n",
            "[nltk_data]   Package averaged_perceptron_tagger is already up-to-\n",
            "[nltk_data]       date!\n",
            "Requirement already satisfied: contractions in /usr/local/lib/python3.7/dist-packages (0.0.48)\n",
            "Requirement already satisfied: textsearch>=0.0.21 in /usr/local/lib/python3.7/dist-packages (from contractions) (0.0.21)\n",
            "Requirement already satisfied: anyascii in /usr/local/lib/python3.7/dist-packages (from textsearch>=0.0.21->contractions) (0.1.7)\n",
            "Requirement already satisfied: pyahocorasick in /usr/local/lib/python3.7/dist-packages (from textsearch>=0.0.21->contractions) (1.4.2)\n",
            "Requirement already satisfied: memory_profiler in /usr/local/lib/python3.7/dist-packages (0.58.0)\n",
            "Requirement already satisfied: psutil in /usr/local/lib/python3.7/dist-packages (from memory_profiler) (5.4.8)\n"
          ],
          "name": "stdout"
        }
      ]
    },
    {
      "cell_type": "markdown",
      "metadata": {
        "id": "jgoKa5zWHbrn"
      },
      "source": [
        "# Lecture des données"
      ],
      "id": "jgoKa5zWHbrn"
    },
    {
      "cell_type": "code",
      "metadata": {
        "id": "Jc17QaH-1rU_",
        "colab": {
          "base_uri": "https://localhost:8080/",
          "height": 699
        },
        "outputId": "ac3231a4-1389-417f-cd62-d5002e9b7095"
      },
      "source": [
        "# inspiré de https://stackoverflow.com/questions/9419162/download-returned-zip-file-from-url et https://stackoverflow.com/questions/18885175/read-a-zipped-file-as-a-pandas-dataframe\n",
        "\n",
        "zip_file_url = \"https://github.com/hiteshyalamanchili/SongGenreClassification/raw/master/dataset/english_cleaned_lyrics.zip\"\n",
        "r = requests.get(zip_file_url)\n",
        "\n",
        "with zipfile.ZipFile(io.BytesIO(r.content)) as z:\n",
        "   with z.open(\"english_cleaned_lyrics.csv\") as f:\n",
        "      df = pd.read_csv(f)\n",
        "\n",
        "display(df)\n",
        "display(df.info())"
      ],
      "id": "Jc17QaH-1rU_",
      "execution_count": null,
      "outputs": [
        {
          "output_type": "display_data",
          "data": {
            "text/html": [
              "<div>\n",
              "<style scoped>\n",
              "    .dataframe tbody tr th:only-of-type {\n",
              "        vertical-align: middle;\n",
              "    }\n",
              "\n",
              "    .dataframe tbody tr th {\n",
              "        vertical-align: top;\n",
              "    }\n",
              "\n",
              "    .dataframe thead th {\n",
              "        text-align: right;\n",
              "    }\n",
              "</style>\n",
              "<table border=\"1\" class=\"dataframe\">\n",
              "  <thead>\n",
              "    <tr style=\"text-align: right;\">\n",
              "      <th></th>\n",
              "      <th>Unnamed: 0</th>\n",
              "      <th>index</th>\n",
              "      <th>song</th>\n",
              "      <th>year</th>\n",
              "      <th>artist</th>\n",
              "      <th>genre</th>\n",
              "      <th>lyrics</th>\n",
              "    </tr>\n",
              "  </thead>\n",
              "  <tbody>\n",
              "    <tr>\n",
              "      <th>0</th>\n",
              "      <td>0</td>\n",
              "      <td>0</td>\n",
              "      <td>ego-remix</td>\n",
              "      <td>2009</td>\n",
              "      <td>beyonce-knowles</td>\n",
              "      <td>Pop</td>\n",
              "      <td>Oh baby how you doing You know I'm gonna cut r...</td>\n",
              "    </tr>\n",
              "    <tr>\n",
              "      <th>1</th>\n",
              "      <td>1</td>\n",
              "      <td>1</td>\n",
              "      <td>then-tell-me</td>\n",
              "      <td>2009</td>\n",
              "      <td>beyonce-knowles</td>\n",
              "      <td>Pop</td>\n",
              "      <td>playin everything so easy it's like you seem s...</td>\n",
              "    </tr>\n",
              "    <tr>\n",
              "      <th>2</th>\n",
              "      <td>2</td>\n",
              "      <td>2</td>\n",
              "      <td>honesty</td>\n",
              "      <td>2009</td>\n",
              "      <td>beyonce-knowles</td>\n",
              "      <td>Pop</td>\n",
              "      <td>If you search For tenderness It isn't hard to ...</td>\n",
              "    </tr>\n",
              "    <tr>\n",
              "      <th>3</th>\n",
              "      <td>3</td>\n",
              "      <td>3</td>\n",
              "      <td>you-are-my-rock</td>\n",
              "      <td>2009</td>\n",
              "      <td>beyonce-knowles</td>\n",
              "      <td>Pop</td>\n",
              "      <td>Oh oh oh I oh oh oh I If I wrote a book about ...</td>\n",
              "    </tr>\n",
              "    <tr>\n",
              "      <th>4</th>\n",
              "      <td>4</td>\n",
              "      <td>4</td>\n",
              "      <td>black-culture</td>\n",
              "      <td>2009</td>\n",
              "      <td>beyonce-knowles</td>\n",
              "      <td>Pop</td>\n",
              "      <td>Party the people the people the party it's pop...</td>\n",
              "    </tr>\n",
              "    <tr>\n",
              "      <th>...</th>\n",
              "      <td>...</td>\n",
              "      <td>...</td>\n",
              "      <td>...</td>\n",
              "      <td>...</td>\n",
              "      <td>...</td>\n",
              "      <td>...</td>\n",
              "      <td>...</td>\n",
              "    </tr>\n",
              "    <tr>\n",
              "      <th>218205</th>\n",
              "      <td>362232</td>\n",
              "      <td>362232</td>\n",
              "      <td>who-am-i-drinking-tonight</td>\n",
              "      <td>2012</td>\n",
              "      <td>edens-edge</td>\n",
              "      <td>Country</td>\n",
              "      <td>I gotta say Boy after only just a couple of da...</td>\n",
              "    </tr>\n",
              "    <tr>\n",
              "      <th>218206</th>\n",
              "      <td>362233</td>\n",
              "      <td>362233</td>\n",
              "      <td>liar</td>\n",
              "      <td>2012</td>\n",
              "      <td>edens-edge</td>\n",
              "      <td>Country</td>\n",
              "      <td>I helped you find her diamond ring You made me...</td>\n",
              "    </tr>\n",
              "    <tr>\n",
              "      <th>218207</th>\n",
              "      <td>362234</td>\n",
              "      <td>362234</td>\n",
              "      <td>last-supper</td>\n",
              "      <td>2012</td>\n",
              "      <td>edens-edge</td>\n",
              "      <td>Country</td>\n",
              "      <td>Look at the couple in the corner booth Looks a...</td>\n",
              "    </tr>\n",
              "    <tr>\n",
              "      <th>218208</th>\n",
              "      <td>362235</td>\n",
              "      <td>362235</td>\n",
              "      <td>christ-alone-live-in-studio</td>\n",
              "      <td>2012</td>\n",
              "      <td>edens-edge</td>\n",
              "      <td>Country</td>\n",
              "      <td>When I fly off this mortal earth And I'm measu...</td>\n",
              "    </tr>\n",
              "    <tr>\n",
              "      <th>218209</th>\n",
              "      <td>362236</td>\n",
              "      <td>362236</td>\n",
              "      <td>amen</td>\n",
              "      <td>2012</td>\n",
              "      <td>edens-edge</td>\n",
              "      <td>Country</td>\n",
              "      <td>I heard from a friend of a friend of a friend ...</td>\n",
              "    </tr>\n",
              "  </tbody>\n",
              "</table>\n",
              "<p>218210 rows × 7 columns</p>\n",
              "</div>"
            ],
            "text/plain": [
              "        Unnamed: 0  ...                                             lyrics\n",
              "0                0  ...  Oh baby how you doing You know I'm gonna cut r...\n",
              "1                1  ...  playin everything so easy it's like you seem s...\n",
              "2                2  ...  If you search For tenderness It isn't hard to ...\n",
              "3                3  ...  Oh oh oh I oh oh oh I If I wrote a book about ...\n",
              "4                4  ...  Party the people the people the party it's pop...\n",
              "...            ...  ...                                                ...\n",
              "218205      362232  ...  I gotta say Boy after only just a couple of da...\n",
              "218206      362233  ...  I helped you find her diamond ring You made me...\n",
              "218207      362234  ...  Look at the couple in the corner booth Looks a...\n",
              "218208      362235  ...  When I fly off this mortal earth And I'm measu...\n",
              "218209      362236  ...  I heard from a friend of a friend of a friend ...\n",
              "\n",
              "[218210 rows x 7 columns]"
            ]
          },
          "metadata": {
            "tags": []
          }
        },
        {
          "output_type": "stream",
          "text": [
            "<class 'pandas.core.frame.DataFrame'>\n",
            "RangeIndex: 218210 entries, 0 to 218209\n",
            "Data columns (total 7 columns):\n",
            " #   Column      Non-Null Count   Dtype \n",
            "---  ------      --------------   ----- \n",
            " 0   Unnamed: 0  218210 non-null  int64 \n",
            " 1   index       218210 non-null  int64 \n",
            " 2   song        218209 non-null  object\n",
            " 3   year        218210 non-null  int64 \n",
            " 4   artist      218210 non-null  object\n",
            " 5   genre       218210 non-null  object\n",
            " 6   lyrics      218210 non-null  object\n",
            "dtypes: int64(3), object(4)\n",
            "memory usage: 11.7+ MB\n"
          ],
          "name": "stdout"
        },
        {
          "output_type": "display_data",
          "data": {
            "text/plain": [
              "None"
            ]
          },
          "metadata": {
            "tags": []
          }
        }
      ]
    },
    {
      "cell_type": "markdown",
      "metadata": {
        "id": "9KqshqGkxWsQ"
      },
      "source": [
        "(2) La  base de donnée utilisée pour le projet contient des centaines de milliers de chansons et pour chacune on a le titre, l'année de parution, l'artiste le genre et les paroles (transcription).\n",
        "\n",
        "Le nom de l'artiste n'est pas pertinent pour plusieurs raisons:\n",
        "\n",
        "D'abord, puisque les genres musicaux utilisés sont si larges, très peu d'artistes ont des titres de plusieurs genres différents, donc connaître le genre d'une chanson d'un artiste permettrait de connaître le genre de toutes les chansons de cet artiste. \n",
        "\n",
        "Ensuite, comme les noms d'artistes ont très rarement un lien direct avec leur genre musical, il ne serait pas vraiment possible de généraliser à partir des données d'entraînement puisque seuls les noms d'artistes connus par l'algorithme seraient utiles à la prédiction. \n",
        "\n",
        "On omettra aussi le titre, qui ne contient pas assez d'informations (trop uniques).\n",
        "\n",
        "Dans leur état brut, les paroles ne nous sont pas très utiles parce qu'elles contiennent trop d'information, n'ont pas vraiment de structure ou d'organisation et n'ont pas de standard de transcription. Les étapes de pré-traitement nécessaires seront décrites dans le bloc suivant."
      ],
      "id": "9KqshqGkxWsQ"
    },
    {
      "cell_type": "markdown",
      "metadata": {
        "id": "-KxqUuR01rVB"
      },
      "source": [
        "# Prétraitement"
      ],
      "id": "-KxqUuR01rVB"
    },
    {
      "cell_type": "markdown",
      "metadata": {
        "id": "5g2BNIEy1rVB"
      },
      "source": [
        "(3ab, 4c) On retire les deux premières colonnes, qui sont redondantes, ainsi que les colonnes `artist` (interprète) et `song` (titre). Du reste, nous avons 2 variables explicatives. `year` correspond à la date de sortie et `lyrics` aux paroles. Ce sont respectivement des variables quantitatives discrètes et qualitatives nominales. `lyrics` est la variable dont nous allons essayer d'exploiter au maximum le potentiel en utilisant des outils/statistiqus du traitement du langage naturel comme `Term Frequency` (fréquence des mots dans chaque texte), `TF-IDF` et `Bag of words`. La variable qu'on désire prédire est `genre`. Comme on l'a déjà mentionné, Puisqu'il s'agit d'un label, nous sommes en face d'un problème de classification. Les algorithmes utilisés pour y arriver seront `Decision Tree`, `Random Forest` et `Naive Bayes`. Puisque `Decision Tree` ne prend que des valeurs numériques en entrée, nous allons devoir encoder les variables qualitatives."
      ],
      "id": "5g2BNIEy1rVB"
    },
    {
      "cell_type": "code",
      "metadata": {
        "id": "oadDxQMQ1rVB"
      },
      "source": [
        "df.drop(list(df.columns[0:3]) + [\"artist\"], axis=1, inplace = True)"
      ],
      "id": "oadDxQMQ1rVB",
      "execution_count": null,
      "outputs": []
    },
    {
      "cell_type": "code",
      "metadata": {
        "id": "5E7GZPag1rVC",
        "colab": {
          "base_uri": "https://localhost:8080/",
          "height": 123
        },
        "outputId": "c9b81b50-4bb1-46a6-abdc-21e293390249"
      },
      "source": [
        "display(df.isnull().sum())\n",
        "df[df.isnull().any(axis=1)]"
      ],
      "id": "5E7GZPag1rVC",
      "execution_count": null,
      "outputs": [
        {
          "output_type": "display_data",
          "data": {
            "text/plain": [
              "year      0\n",
              "genre     0\n",
              "lyrics    0\n",
              "dtype: int64"
            ]
          },
          "metadata": {
            "tags": []
          }
        },
        {
          "output_type": "execute_result",
          "data": {
            "text/html": [
              "<div>\n",
              "<style scoped>\n",
              "    .dataframe tbody tr th:only-of-type {\n",
              "        vertical-align: middle;\n",
              "    }\n",
              "\n",
              "    .dataframe tbody tr th {\n",
              "        vertical-align: top;\n",
              "    }\n",
              "\n",
              "    .dataframe thead th {\n",
              "        text-align: right;\n",
              "    }\n",
              "</style>\n",
              "<table border=\"1\" class=\"dataframe\">\n",
              "  <thead>\n",
              "    <tr style=\"text-align: right;\">\n",
              "      <th></th>\n",
              "      <th>year</th>\n",
              "      <th>genre</th>\n",
              "      <th>lyrics</th>\n",
              "    </tr>\n",
              "  </thead>\n",
              "  <tbody>\n",
              "  </tbody>\n",
              "</table>\n",
              "</div>"
            ],
            "text/plain": [
              "Empty DataFrame\n",
              "Columns: [year, genre, lyrics]\n",
              "Index: []"
            ]
          },
          "metadata": {
            "tags": []
          },
          "execution_count": 4
        }
      ]
    },
    {
      "cell_type": "markdown",
      "metadata": {
        "id": "llu7af831rVC"
      },
      "source": [
        "Nous avons aucune donnée manquante dans tout le tableau. Si on en avait eu, on aurait pu soit la laisser tomber, ou bien utiliser une imputation par la règle, puisqu'il suffit de chercher le titre sur le web pour trouver un attribut associé.\n",
        "\n",
        "Intéressons-nous maintenant au nombre d'entrées qui seront nécessaires pour le modèle."
      ],
      "id": "llu7af831rVC"
    },
    {
      "cell_type": "code",
      "metadata": {
        "id": "epDpMGcj1rVC",
        "colab": {
          "base_uri": "https://localhost:8080/",
          "height": 256
        },
        "outputId": "973482ce-ce07-4ef1-d64e-56b5ff52d462"
      },
      "source": [
        "display(df.value_counts(df['genre']))"
      ],
      "id": "epDpMGcj1rVC",
      "execution_count": null,
      "outputs": [
        {
          "output_type": "display_data",
          "data": {
            "text/plain": [
              "genre\n",
              "Rock          100053\n",
              "Pop            34137\n",
              "Hip-Hop        22654\n",
              "Metal          21210\n",
              "Country        14158\n",
              "Jazz            7310\n",
              "Electronic      6942\n",
              "Other           3786\n",
              "R&B             3336\n",
              "Indie           2935\n",
              "Folk            1689\n",
              "dtype: int64"
            ]
          },
          "metadata": {
            "tags": []
          }
        }
      ]
    },
    {
      "cell_type": "markdown",
      "metadata": {
        "id": "YSj3B5Ug1rVD"
      },
      "source": [
        "Le nombre de chansons des différents genres varie beaucoup, quelques uns en ont beaucoup plus que d'autres, particulièrement Rock.\n",
        "\n",
        "Si on entraîne un modèle sur ces données, on risquerait d'avoir un gros biais pour ces genres. On devrait donc rendre le set plus équilibré. En effet, on trouve à l'entrée de *Downsampling* du \"Machine Learning Glossary\" de *Google*:\n",
        "\n",
        "```\n",
        "[...]\n",
        "For example, in a class-imbalanced dataset, models tend to learn a lot about\n",
        "the majority class and not enough about the minority class. Downsampling helps\n",
        "balance the amount of training on the majority and minority classes.\n",
        "```\n",
        "\n",
        "Le jeu de données est trop volumineux pour créer le modèle. On va donc se limiter à environ 1/10 de celui-ci. Nous avons un total d'environ 218 000 entrées, ce qui veut dire qu'on utiliserait environ 21 000 entrées. Si nous voulons avoir une représentation égale de chaque genre alors il faudrait environ 21000/11 genres, donc environ 1900 chanson par genre. `Folks` est la catégorie en ayant le moins avec 1689 donc c'est le maximum que nous allons utiliser pour que les genres soient égalements représentés.\n",
        "\n",
        "**Note à posteriori**: en raison du temps de calcul important, on a réduit la taille à $800*11 = 8 800$ individus."
      ],
      "id": "YSj3B5Ug1rVD"
    },
    {
      "cell_type": "code",
      "metadata": {
        "id": "yuWbnqAw1rVD",
        "scrolled": true,
        "colab": {
          "base_uri": "https://localhost:8080/"
        },
        "outputId": "c6ff4120-c3cc-4b58-a3fd-8058857dd887"
      },
      "source": [
        "n_samples = 800\n",
        "\n",
        "df_sample = df.groupby('genre').sample(n_samples, random_state = 17)\n",
        "\n",
        "#Test réduire nombre de classe\n",
        "\n",
        "df_sample = df_sample[df_sample['genre'] != 'Folk']\n",
        "df_sample = df_sample[df_sample['genre'] != 'Pop']\n",
        "df_sample = df_sample[df_sample['genre'] != 'Rock']\n",
        "df_sample = df_sample[df_sample['genre'] != 'Electronic']\n",
        "\n",
        "print(df_sample.value_counts(df['genre']))"
      ],
      "id": "yuWbnqAw1rVD",
      "execution_count": null,
      "outputs": [
        {
          "output_type": "stream",
          "text": [
            "genre\n",
            "R&B        800\n",
            "Other      800\n",
            "Metal      800\n",
            "Jazz       800\n",
            "Indie      800\n",
            "Hip-Hop    800\n",
            "Country    800\n",
            "dtype: int64\n"
          ],
          "name": "stdout"
        }
      ]
    },
    {
      "cell_type": "markdown",
      "metadata": {
        "id": "AMrGSwk71rVE"
      },
      "source": [
        "# Tranformations du vecteur `lyrics` vers une représentation numérique"
      ],
      "id": "AMrGSwk71rVE"
    },
    {
      "cell_type": "markdown",
      "metadata": {
        "id": "Trsg18Yl1rVE"
      },
      "source": [
        "## Partie commune\n",
        "Pour tous les algorithmes, il est nécessaire de fragmenter les phrases en liste de mots, de retirer les contractions, d'enlever les `stopwords` (mots qui ne sont pas significatifs, car ils sont trop communs), etc."
      ],
      "id": "Trsg18Yl1rVE"
    },
    {
      "cell_type": "markdown",
      "metadata": {
        "id": "VIvVQ37G1rVE"
      },
      "source": [
        "La première étape consiste à tout mettre en minuscule afin de standardiser et faciliter la tâche du traitement des mots."
      ],
      "id": "VIvVQ37G1rVE"
    },
    {
      "cell_type": "code",
      "metadata": {
        "id": "72fLM2vF1rVE",
        "scrolled": false,
        "colab": {
          "base_uri": "https://localhost:8080/",
          "height": 424
        },
        "outputId": "f56217ec-8ea9-4227-d7e8-c93cd215df39"
      },
      "source": [
        "strCols = df.select_dtypes(include='object')\n",
        "df_sample[strCols.columns] = strCols.applymap(lambda string: string.lower())\n",
        "display(df_sample)\n",
        "\n",
        "#Pour simplifier la manipulation\n",
        "target = df_sample[\"genre\"]"
      ],
      "id": "72fLM2vF1rVE",
      "execution_count": null,
      "outputs": [
        {
          "output_type": "display_data",
          "data": {
            "text/html": [
              "<div>\n",
              "<style scoped>\n",
              "    .dataframe tbody tr th:only-of-type {\n",
              "        vertical-align: middle;\n",
              "    }\n",
              "\n",
              "    .dataframe tbody tr th {\n",
              "        vertical-align: top;\n",
              "    }\n",
              "\n",
              "    .dataframe thead th {\n",
              "        text-align: right;\n",
              "    }\n",
              "</style>\n",
              "<table border=\"1\" class=\"dataframe\">\n",
              "  <thead>\n",
              "    <tr style=\"text-align: right;\">\n",
              "      <th></th>\n",
              "      <th>year</th>\n",
              "      <th>genre</th>\n",
              "      <th>lyrics</th>\n",
              "    </tr>\n",
              "  </thead>\n",
              "  <tbody>\n",
              "    <tr>\n",
              "      <th>77428</th>\n",
              "      <td>2006</td>\n",
              "      <td>country</td>\n",
              "      <td>dolly parton we sang a love song the day that...</td>\n",
              "    </tr>\n",
              "    <tr>\n",
              "      <th>95893</th>\n",
              "      <td>2007</td>\n",
              "      <td>country</td>\n",
              "      <td>you say you love me and its inviting to go whe...</td>\n",
              "    </tr>\n",
              "    <tr>\n",
              "      <th>37816</th>\n",
              "      <td>2007</td>\n",
              "      <td>country</td>\n",
              "      <td>we're gonna hold on we're gonna hold on we're...</td>\n",
              "    </tr>\n",
              "    <tr>\n",
              "      <th>39737</th>\n",
              "      <td>2007</td>\n",
              "      <td>country</td>\n",
              "      <td>i heard the bells on christmas day their old f...</td>\n",
              "    </tr>\n",
              "    <tr>\n",
              "      <th>190428</th>\n",
              "      <td>2008</td>\n",
              "      <td>country</td>\n",
              "      <td>there stands the glass that will ease all my p...</td>\n",
              "    </tr>\n",
              "    <tr>\n",
              "      <th>...</th>\n",
              "      <td>...</td>\n",
              "      <td>...</td>\n",
              "      <td>...</td>\n",
              "    </tr>\n",
              "    <tr>\n",
              "      <th>160090</th>\n",
              "      <td>2006</td>\n",
              "      <td>r&amp;b</td>\n",
              "      <td>you pay your money to get in you're ready for ...</td>\n",
              "    </tr>\n",
              "    <tr>\n",
              "      <th>29235</th>\n",
              "      <td>2008</td>\n",
              "      <td>r&amp;b</td>\n",
              "      <td>the water turned black and it's just getting d...</td>\n",
              "    </tr>\n",
              "    <tr>\n",
              "      <th>114037</th>\n",
              "      <td>1985</td>\n",
              "      <td>r&amp;b</td>\n",
              "      <td>doo doo doo doo doo doo mmm dooby dooby doo do...</td>\n",
              "    </tr>\n",
              "    <tr>\n",
              "      <th>17452</th>\n",
              "      <td>2008</td>\n",
              "      <td>r&amp;b</td>\n",
              "      <td>well i'm trying lord to be full of your convic...</td>\n",
              "    </tr>\n",
              "    <tr>\n",
              "      <th>206307</th>\n",
              "      <td>2007</td>\n",
              "      <td>r&amp;b</td>\n",
              "      <td>lounging back in their golden chairs plastic s...</td>\n",
              "    </tr>\n",
              "  </tbody>\n",
              "</table>\n",
              "<p>5600 rows × 3 columns</p>\n",
              "</div>"
            ],
            "text/plain": [
              "        year    genre                                             lyrics\n",
              "77428   2006  country   dolly parton we sang a love song the day that...\n",
              "95893   2007  country  you say you love me and its inviting to go whe...\n",
              "37816   2007  country   we're gonna hold on we're gonna hold on we're...\n",
              "39737   2007  country  i heard the bells on christmas day their old f...\n",
              "190428  2008  country  there stands the glass that will ease all my p...\n",
              "...      ...      ...                                                ...\n",
              "160090  2006      r&b  you pay your money to get in you're ready for ...\n",
              "29235   2008      r&b  the water turned black and it's just getting d...\n",
              "114037  1985      r&b  doo doo doo doo doo doo mmm dooby dooby doo do...\n",
              "17452   2008      r&b  well i'm trying lord to be full of your convic...\n",
              "206307  2007      r&b  lounging back in their golden chairs plastic s...\n",
              "\n",
              "[5600 rows x 3 columns]"
            ]
          },
          "metadata": {
            "tags": []
          }
        }
      ]
    },
    {
      "cell_type": "markdown",
      "metadata": {
        "id": "GegIPhMxtZ1m"
      },
      "source": [
        "Dans le fragment de code suivant, on *tokenize* les mots de chaque chanson, qui a préalablement été \"corrigée\" pour enlever les contractions."
      ],
      "id": "GegIPhMxtZ1m"
    },
    {
      "cell_type": "code",
      "metadata": {
        "id": "3zJflMlL1rVF"
      },
      "source": [
        "df_sample['tokenized'] = df_sample[\"lyrics\"].apply(lambda l: nltk.word_tokenize(contractions.fix(l)))"
      ],
      "id": "3zJflMlL1rVF",
      "execution_count": null,
      "outputs": []
    },
    {
      "cell_type": "markdown",
      "metadata": {
        "id": "Z8rt0Qz_GtXw"
      },
      "source": [
        "Avant de poursuivre, nous allons en profiter pour ajouter une variable explicative: le nombre de mots dans une chanson. En effet, peut-être que certains genres de musiques sont généralement plus courts; on peut penser au country qui raconte des histoires, alors que le jazz est davantage orienté vers la mélodie."
      ],
      "id": "Z8rt0Qz_GtXw"
    },
    {
      "cell_type": "code",
      "metadata": {
        "id": "JcGi5RhWH2AB",
        "colab": {
          "base_uri": "https://localhost:8080/",
          "height": 592
        },
        "outputId": "230b8f6b-2473-4662-ddd0-d52807e48f4f"
      },
      "source": [
        "df_sample[\"length\"] = df_sample[\"tokenized\"].apply(len)\n",
        "\n",
        "pivoted = df_sample.pivot_table(columns=\"genre\", values=\"length\", aggfunc=\"mean\")\n",
        "\n",
        "plt.figure(figsize=(20,10))\n",
        "plt.bar(x = pivoted.columns, height=pivoted.loc[\"length\"].values)\n",
        "plt.show()"
      ],
      "id": "JcGi5RhWH2AB",
      "execution_count": null,
      "outputs": [
        {
          "output_type": "display_data",
          "data": {
            "image/png": "[encoded data removed]",
            "text/plain": [
              "<Figure size 1440x720 with 1 Axes>"
            ]
          },
          "metadata": {
            "tags": [],
            "needs_background": "light"
          }
        }
      ]
    },
    {
      "cell_type": "markdown",
      "metadata": {
        "id": "ddEuwRlnPfuJ"
      },
      "source": [
        "Il semble effectivement avoir une différence. En particulier, cette variable est  très discriminante pour le style `hip-hop`."
      ],
      "id": "ddEuwRlnPfuJ"
    },
    {
      "cell_type": "markdown",
      "metadata": {
        "id": "6A6tO1ch1rVF"
      },
      "source": [
        "Nous avons maintenant une liste de mots non contractés. Maintenant, nous allons essayer de repérer des mots aberrants comme \"aaaaaaaaaaaaaaaaaaaaaaaaaaaah\"."
      ],
      "id": "6A6tO1ch1rVF"
    },
    {
      "cell_type": "code",
      "metadata": {
        "id": "xZ-ZEczM1rVF",
        "scrolled": true
      },
      "source": [
        "words_lengths = df_sample['tokenized'].apply(lambda array : list(map(len, array))).explode()\n",
        "\n",
        "freq = words_lengths.value_counts(sort=False)"
      ],
      "id": "xZ-ZEczM1rVF",
      "execution_count": null,
      "outputs": []
    },
    {
      "cell_type": "code",
      "metadata": {
        "id": "e77eYG7o1rVG",
        "scrolled": false,
        "colab": {
          "base_uri": "https://localhost:8080/",
          "height": 663
        },
        "outputId": "1fde01da-f515-4177-92cd-6a184cf55a8b"
      },
      "source": [
        "plt.figure(figsize=(20,10))\n",
        "plt.suptitle(\"Nombre d'occcurrences selon la longueurs des mots\")\n",
        "\n",
        "plt.subplot(1,2,1)\n",
        "plt.bar(x = freq.index ,height = freq)\n",
        "\n",
        "plt.subplot(1,2,2)\n",
        "plt.boxplot(words_lengths)\n",
        "\n",
        "plt.show()"
      ],
      "id": "e77eYG7o1rVG",
      "execution_count": null,
      "outputs": [
        {
          "output_type": "display_data",
          "data": {
            "image/png": "[encoded data removed]",
            "text/plain": [
              "<Figure size 1440x720 with 2 Axes>"
            ]
          },
          "metadata": {
            "tags": [],
            "needs_background": "light"
          }
        }
      ]
    },
    {
      "cell_type": "code",
      "metadata": {
        "id": "W48Qk7KmU7e3",
        "colab": {
          "base_uri": "https://localhost:8080/"
        },
        "outputId": "67fca6f7-120d-4fea-fdf7-8f4c8d36670f"
      },
      "source": [
        "print(\"coefficient d'asymétrie:\",words_lengths.skew())"
      ],
      "id": "W48Qk7KmU7e3",
      "execution_count": null,
      "outputs": [
        {
          "output_type": "stream",
          "text": [
            "coefficient d'asymétrie: 1.0763494600713674\n"
          ],
          "name": "stdout"
        }
      ]
    },
    {
      "cell_type": "markdown",
      "metadata": {
        "id": "rBBOG1PM1rVG"
      },
      "source": [
        "Nous avons une distribution légèrement asymétrique à gauche, et c'est probablement lié aux données aberrantes. D'ailleurs, on peut constater sur le boxplot que certains mots ont une longueur avoisinant les 50 lettres!\n"
      ],
      "id": "rBBOG1PM1rVG"
    },
    {
      "cell_type": "code",
      "metadata": {
        "id": "Vye4AO8tQSjX",
        "colab": {
          "base_uri": "https://localhost:8080/"
        },
        "outputId": "adc99dd7-caa3-41f4-859f-258c4319a4e4"
      },
      "source": [
        "# inspiré de https://stackoverflow.com/questions/10072744/remove-repeating-characters-from-words\n",
        "\n",
        "# itertools.groupby(string) retourne une liste de tuples dont le 2e élément est un itérateur contenant les caractères identiques groupés\n",
        "# Donc si une lettre est présente plus de 2 fois, alors on retient le mot\n",
        "stretched = df_sample['tokenized'].apply(lambda array : [word for word in array if any((len(list(s))>2 for _, s in itertools.groupby(word)))])\n",
        "                                         \n",
        "stretched = stretched.explode().value_counts()\n",
        "\n",
        "print(stretched.head(50),\"\\n\")\n",
        "for word in stretched.index:\n",
        "  print(word)"
      ],
      "id": "Vye4AO8tQSjX",
      "execution_count": null,
      "outputs": [
        {
          "output_type": "stream",
          "text": [
            "oooh              100\n",
            "mmm                68\n",
            "ooo                54\n",
            "ohhh               27\n",
            "ooooo              22\n",
            "ayyy               16\n",
            "000                14\n",
            "ooooh              13\n",
            "ahhh               12\n",
            "oooo               11\n",
            "2000               10\n",
            "ohhhh              10\n",
            "oooooh              9\n",
            "yeaahhhhh           9\n",
            "kneeewww            8\n",
            "ooooooh             8\n",
            "hmmm                7\n",
            "oooohhh             7\n",
            "1999                7\n",
            "vrrroooommm         6\n",
            "oooooo              6\n",
            "baaaaaaaaaaimp      6\n",
            "ooohhh              6\n",
            "aaah                6\n",
            "uhhh                6\n",
            "eee                 6\n",
            "aaaaoo              6\n",
            "ohhhhh              6\n",
            "iii                 5\n",
            "ahhhh               5\n",
            "hmmmm               5\n",
            "nooo                5\n",
            "mmmmh               5\n",
            "mmmm                5\n",
            "shhh                4\n",
            "ahhhhh              4\n",
            "ehhhh               4\n",
            "whaaaaat            4\n",
            "ohhhhhh             4\n",
            "dooo                4\n",
            "woooh               4\n",
            "metaaaal            4\n",
            "yeahhh              4\n",
            "666                 4\n",
            "dooown              4\n",
            "aaaahhhhhhhhhh      3\n",
            "beeee               3\n",
            "aliiivvee           3\n",
            "oooohh              3\n",
            "whooo               3\n",
            "Name: tokenized, dtype: int64 \n",
            "\n",
            "oooh\n",
            "mmm\n",
            "ooo\n",
            "ohhh\n",
            "ooooo\n",
            "ayyy\n",
            "000\n",
            "ooooh\n",
            "ahhh\n",
            "oooo\n",
            "2000\n",
            "ohhhh\n",
            "oooooh\n",
            "yeaahhhhh\n",
            "kneeewww\n",
            "ooooooh\n",
            "hmmm\n",
            "oooohhh\n",
            "1999\n",
            "vrrroooommm\n",
            "oooooo\n",
            "baaaaaaaaaaimp\n",
            "ooohhh\n",
            "aaah\n",
            "uhhh\n",
            "eee\n",
            "aaaaoo\n",
            "ohhhhh\n",
            "iii\n",
            "ahhhh\n",
            "hmmmm\n",
            "nooo\n",
            "mmmmh\n",
            "mmmm\n",
            "shhh\n",
            "ahhhhh\n",
            "ehhhh\n",
            "whaaaaat\n",
            "ohhhhhh\n",
            "dooo\n",
            "woooh\n",
            "metaaaal\n",
            "yeahhh\n",
            "666\n",
            "dooown\n",
            "aaaahhhhhhhhhh\n",
            "beeee\n",
            "aliiivvee\n",
            "oooohh\n",
            "whooo\n",
            "oooooooh\n",
            "heyyy\n",
            "ehhh\n",
            "1000\n",
            "wooo\n",
            "greeeeeee\n",
            "yeaaah\n",
            "eeeh\n",
            "doooo\n",
            "wannna\n",
            "haaa\n",
            "bzzzzzzzzzzzzt\n",
            "mannn\n",
            "ohhhhhhh\n",
            "ooooooooo\n",
            "weeeeeeeeeeeeeeed\n",
            "riiiddin\n",
            "riiidin\n",
            "founnnnnnddd\n",
            "listennn\n",
            "maaaaarrrrrrrrssss\n",
            "laahhh\n",
            "knooow\n",
            "riiidinn\n",
            "owww\n",
            "ahhhhhh\n",
            "sparxxx\n",
            "thiiiiiiing\n",
            "ayyyy\n",
            "errrbody\n",
            "hmmmmm\n",
            "aaaaaaow\n",
            "vrinnn\n",
            "awww\n",
            "aaaaaah\n",
            "emmm\n",
            "yeeeh\n",
            "ohhhhhhhhh\n",
            "ringgg\n",
            "oooohhhh\n",
            "woooo\n",
            "yeeeeah\n",
            "zzzzz\n",
            "aoooowwww\n",
            "spareeeee\n",
            "laaaaaaa\n",
            "whooooaaaaaaaaa\n",
            "hoooo\n",
            "dreaminnnnn\n",
            "maaan\n",
            "twinnnns\n",
            "woyyy\n",
            "brarabrarabbahhh\n",
            "loooove\n",
            "eeeeeeeepiiiiiiiiiic\n",
            "wayyyy\n",
            "arrrrrogant\n",
            "yeeaaahhh\n",
            "donmaxxx\n",
            "todaaaaay\n",
            "ooooooooooooo\n",
            "alooooone\n",
            "sheeeit\n",
            "aaaaaahhhhhhh\n",
            "aaaah\n",
            "yeaaauh\n",
            "eeeeeeeeeeeepiiiiiiiiiiiic\n",
            "shiiit\n",
            "nooooo\n",
            "yaaaahhhhh\n",
            "pha'reaaal\n",
            "tiiiiime\n",
            "yoooo\n",
            "mannnn\n",
            "seee\n",
            "ooohhhh\n",
            "yeeeeeah\n",
            "rottten\n",
            "amerikkka\n",
            "hoooooo\n",
            "mmmh\n",
            "baaack\n",
            "yeeeee\n",
            "suuu\n",
            "daaaaaance\n",
            "0hhhhhhhhh\n",
            "ahhaaahaaahaaaa\n",
            "yyyyo\n",
            "youtubeee\n",
            "soooo\n",
            "rrarrrrh\n",
            "muh'fuckersssss\n",
            "noooooo\n",
            "brrrat\n",
            "9000\n",
            "uuhaaaa\n",
            "danggg\n",
            "hmmmmmm\n",
            "woooooo\n",
            "manannn\n",
            "ahhhhhhhh\n",
            "whooooa\n",
            "bayyy\n",
            "aaaaahaaahaaaahaaaahhaaa\n",
            "mmmhh\n",
            "chillll\n",
            "mmmmmmmmm\n",
            "ddddamn\n",
            "whyyy\n",
            "brrrring\n",
            "rooom\n",
            "promoooo\n",
            "hhhhh\n",
            "ooohing\n",
            "sss\n",
            "bbback\n",
            "meee\n",
            "2222\n",
            "riiiiiiight\n",
            "psssh\n",
            "aaaahahaaaaaa\n",
            "upppp\n",
            "shiiiiiiiit\n",
            "niggaaa\n",
            "yeeeah\n",
            "eeeeeeeeepiiiiiiiiiic\n",
            "onnnnnnnnnn\n",
            "attacksssss\n",
            "juuust\n",
            "freeeeely\n",
            "meeeee\n",
            "aowww\n",
            "oowoowoooww\n",
            "greeen\n",
            "errrwwwee\n",
            "urnnnn\n",
            "ooooout\n",
            "denzelll\n",
            "ooooooohhhhhh\n",
            "rufff\n",
            "onnn\n",
            "wayyy\n",
            "haaaa\n",
            "whoooo\n",
            "yooou\n",
            "aahaaaaaaa\n",
            "ooohh\n",
            "whooooooo\n",
            "starfoxxx\n",
            "niggaaaaaaaaaa\n",
            "oheeeeeee\n",
            "gonnna\n",
            "wooooooo\n",
            "goneeeeeeeee\n",
            "uuuh\n",
            "sipppin\n",
            "yoooooou\n",
            "partyartyartyartyahhhh\n",
            "yaaaaaaaahhhhhhhh\n",
            "5555\n",
            "nigggga\n",
            "gottta\n",
            "uuuuh\n",
            "brrrr\n",
            "555\n",
            "shhhhh\n",
            "shwiii\n",
            "sloooweed\n",
            "wooooooohooo\n",
            "aliiivee\n",
            "babeee\n",
            "daaaaa\n",
            "longggg\n",
            "selllin\n",
            "kkkill\n",
            "uffft\n",
            "oohhhhh\n",
            "juuuust\n",
            "heyyyyyyyyyyyyyyy\n",
            "yeahhhh\n",
            "ahhhhhhhhhhhh\n",
            "helllll\n",
            "okaaay\n",
            "aaaahaaahaaa\n",
            "uhhhhhh\n",
            "chooose\n",
            "tssss\n",
            "aaaahaaaa\n",
            "aowwww\n",
            "yaaahhh\n",
            "aaaaah\n",
            "youuuu\n",
            "ooohweee\n",
            "haaaaaaaaaaaa\n",
            "111\n",
            "foxxx\n",
            "fouuuuunnddd\n",
            "laaa\n",
            "kkk\n",
            "owwwwwwwwwwwwwwww\n",
            "tooounge\n",
            "uhhhhhhhhhhhhhhhhhhhhhhhhhh\n",
            "maaaaaaaaaaarrrrrrrrrrrrrrsssss\n",
            "nahhhhh\n",
            "knoooow\n",
            "aaaaaaahhhh\n",
            "fllly\n",
            "slooow\n",
            "getttin\n",
            "222\n",
            "bleeeding\n",
            "2000s\n",
            "www\n",
            "thisssss\n",
            "ummmmmmm\n",
            "kaaa\n",
            "whaaat\n",
            "cccp\n",
            "sorrrow\n",
            "knnoooooww\n"
          ],
          "name": "stdout"
        }
      ]
    },
    {
      "cell_type": "markdown",
      "metadata": {
        "id": "ytypbveyXOWD"
      },
      "source": [
        "On aurait pu utiliser la librairie spellchecker qui corrige les mots comme \"haappyy\" (qui est lui-même une réduction de \"hhhaaaapppppyyyy\" après avoir été réduit avec REGEX tel quel s'il contient plus de 2 lettres identiques consécutives, alors ce nombre de lettres est réduit à 2) en \"happy\". Par contre, à regarder la liste des mots ayant plus de 3 lettres identiques consécutives (résultat d'éxécution caché), ça semble assez négligeable pour ce que ça apporterait. Et en fait, 95% sont des \"noise words\", donc nous allons tout simplement les \"filter out\" avec le reste.\n",
        "\n",
        "Après ce nettoyage, on devrait avoir une courbe qui s'apparente davantage à la gaussienne. Par contre, même dans ce cas, puisqu'il s'agit de mots, il ne semble pas judicieux de couper tous les mots ayant une longueur telle que son écart-type est supérieur à un certain seuil. En prenant comme hypothèse qu'il s'agit de paroles de chansons et que les mots utilisés sont généralement courts, on pourrait décider, en tenant compte des graphiques obtenus, de fixer un seuil à environ 15 lettres, mais ça reseterait arbitraire, surtout si l'on tient compte de la Loi de Zipf qui stipule que la fréquence d'apparition des mots a une distribution similaire à la fonction $$\\frac {c} {x}\\rightarrow \\left (\\frac {\\mbox{fréq_mot}_i} {\\mbox{total}}\\right )$$Si nous mettons cela en lien avec la théorie de l'information de Claude Shanon, alors il est probable que les mots les plus utilisés soient aussi les plus courts (l'encodage d'un concept sémantique dans un son ou un mot est généralement proportionnel à son poids sémantique; un mot comme \"de\" est sémantiquement pauvre, mais court en raison de sa fréquence, alors qu'un mot plus spécifique comme \"parachutiste\" contient plus d'information (racine, affixes, etc.)). De ce fait, les mots les plus intéressants sont probablement les plus longs car ils véhiculent davantage d'information spécifique. En prenant cela en considération, nous allons opter pour un intervalle [3, 20]."
      ],
      "id": "ytypbveyXOWD"
    },
    {
      "cell_type": "code",
      "metadata": {
        "id": "8x0kgW6i1rVG",
        "scrolled": false
      },
      "source": [
        "stopwords = nltk.corpus.stopwords.words('english')\n",
        "\n",
        "df_sample['tokenized'] = df_sample['tokenized'].apply(lambda array : [word for word in array if all([word not in stopwords\n",
        "                                                                                                   , len(word) in range(3,20)\n",
        "                                                                                                   , word.isalpha()\n",
        "                                                                                                   , all((len(list(s))<3 for _, s in itertools.groupby(word)))])])"
      ],
      "id": "8x0kgW6i1rVG",
      "execution_count": null,
      "outputs": []
    },
    {
      "cell_type": "markdown",
      "metadata": {
        "id": "qwy0QwpU1rVI"
      },
      "source": [
        "Ici on peut utiliser le *stemming* ou le *lemmatizing*, deux techniques similaires qui permettent de transformer un mot en son 'unité de base' ou sa racine, pour ignorer toutes les formes conjuguées possibles. Ainsi, on réduit le nombre total de tokens différents et on conserve le sens des mots, ce qui devrait aider la classification.\n",
        "\n",
        "Le *stemming* est entièrement 'algorithmique' et ne tient compte que de l'orthographe donc on peut obtenir des racines qui n'ont pas vraiment de sens, ou regrouper plusieurs mots qui n'ont pas de liens, comme 'universelle' et 'université' en 'univers'. Cependant, cette technique devrait être la plus rapide.\n",
        "\n",
        "Le *lemmatizing* tient compte des règles linguistiques et du sens même des mots, en ne retournant que des mots qui 'existent' ou sont dans le dictionnaire, donc on ne devrait pas avoir de mots qui n'ont pas de liens sous une même racine, et aucune racine n'ayant pas de sens. Cependant ce processus est plus long et couteux, mais permet plus de précision.\n",
        "\n",
        "On utilisera donc le *lemmatizing*."
      ],
      "id": "qwy0QwpU1rVI"
    },
    {
      "cell_type": "code",
      "metadata": {
        "id": "ImeoH4Uh1rVI",
        "colab": {
          "base_uri": "https://localhost:8080/",
          "height": 424
        },
        "outputId": "6c98e911-fefa-42c7-9f7d-96ee5bb488ca"
      },
      "source": [
        "lemmatizer = WordNetLemmatizer()\n",
        "\n",
        "# inspiré de \"https://stackoverflow.com/questions/15586721/wordnet-lemmatization-and-pos-tagging-in-python\"\n",
        "conversion_table = dict(zip(list(\"JVNR\"), [wordnet.ADJ,wordnet.VERB, wordnet.NOUN, wordnet.ADV]))\n",
        "tagged = nltk.tag.pos_tag_sents(df_sample[\"tokenized\"])\n",
        "\n",
        "df_sample['lemmatized'] = list(map(lambda sentence: [lemmatizer.lemmatize(word, conversion_table.get(cat[0], wordnet.NOUN)) for word, cat in sentence], tagged))\n",
        "\n",
        "display(df_sample)\n",
        "df_sample.drop(columns=['tokenized'], inplace=True)"
      ],
      "id": "ImeoH4Uh1rVI",
      "execution_count": null,
      "outputs": [
        {
          "output_type": "display_data",
          "data": {
            "text/html": [
              "<div>\n",
              "<style scoped>\n",
              "    .dataframe tbody tr th:only-of-type {\n",
              "        vertical-align: middle;\n",
              "    }\n",
              "\n",
              "    .dataframe tbody tr th {\n",
              "        vertical-align: top;\n",
              "    }\n",
              "\n",
              "    .dataframe thead th {\n",
              "        text-align: right;\n",
              "    }\n",
              "</style>\n",
              "<table border=\"1\" class=\"dataframe\">\n",
              "  <thead>\n",
              "    <tr style=\"text-align: right;\">\n",
              "      <th></th>\n",
              "      <th>year</th>\n",
              "      <th>genre</th>\n",
              "      <th>lyrics</th>\n",
              "      <th>tokenized</th>\n",
              "      <th>length</th>\n",
              "      <th>lemmatized</th>\n",
              "    </tr>\n",
              "  </thead>\n",
              "  <tbody>\n",
              "    <tr>\n",
              "      <th>77428</th>\n",
              "      <td>2006</td>\n",
              "      <td>country</td>\n",
              "      <td>dolly parton we sang a love song the day that...</td>\n",
              "      <td>[dolly, parton, sang, love, song, day, met, th...</td>\n",
              "      <td>380</td>\n",
              "      <td>[dolly, parton, sang, love, song, day, meet, t...</td>\n",
              "    </tr>\n",
              "    <tr>\n",
              "      <th>95893</th>\n",
              "      <td>2007</td>\n",
              "      <td>country</td>\n",
              "      <td>you say you love me and its inviting to go whe...</td>\n",
              "      <td>[say, love, inviting, life, exciting, raised, ...</td>\n",
              "      <td>204</td>\n",
              "      <td>[say, love, invite, life, excite, raise, count...</td>\n",
              "    </tr>\n",
              "    <tr>\n",
              "      <th>37816</th>\n",
              "      <td>2007</td>\n",
              "      <td>country</td>\n",
              "      <td>we're gonna hold on we're gonna hold on we're...</td>\n",
              "      <td>[going, hold, going, hold, going, hold, life, ...</td>\n",
              "      <td>88</td>\n",
              "      <td>[go, hold, go, hold, go, hold, life, rough, so...</td>\n",
              "    </tr>\n",
              "    <tr>\n",
              "      <th>39737</th>\n",
              "      <td>2007</td>\n",
              "      <td>country</td>\n",
              "      <td>i heard the bells on christmas day their old f...</td>\n",
              "      <td>[heard, bells, christmas, day, old, familiar, ...</td>\n",
              "      <td>112</td>\n",
              "      <td>[heard, bell, christmas, day, old, familiar, c...</td>\n",
              "    </tr>\n",
              "    <tr>\n",
              "      <th>190428</th>\n",
              "      <td>2008</td>\n",
              "      <td>country</td>\n",
              "      <td>there stands the glass that will ease all my p...</td>\n",
              "      <td>[stands, glass, ease, pain, settle, brain, fir...</td>\n",
              "      <td>94</td>\n",
              "      <td>[stand, glass, ease, pain, settle, brain, firs...</td>\n",
              "    </tr>\n",
              "    <tr>\n",
              "      <th>...</th>\n",
              "      <td>...</td>\n",
              "      <td>...</td>\n",
              "      <td>...</td>\n",
              "      <td>...</td>\n",
              "      <td>...</td>\n",
              "      <td>...</td>\n",
              "    </tr>\n",
              "    <tr>\n",
              "      <th>160090</th>\n",
              "      <td>2006</td>\n",
              "      <td>r&amp;b</td>\n",
              "      <td>you pay your money to get in you're ready for ...</td>\n",
              "      <td>[pay, money, get, ready, fun, get, afraid, get...</td>\n",
              "      <td>126</td>\n",
              "      <td>[pay, money, get, ready, fun, get, afraid, get...</td>\n",
              "    </tr>\n",
              "    <tr>\n",
              "      <th>29235</th>\n",
              "      <td>2008</td>\n",
              "      <td>r&amp;b</td>\n",
              "      <td>the water turned black and it's just getting d...</td>\n",
              "      <td>[water, turned, black, getting, darker, afraid...</td>\n",
              "      <td>391</td>\n",
              "      <td>[water, turn, black, get, darker, afraid, afra...</td>\n",
              "    </tr>\n",
              "    <tr>\n",
              "      <th>114037</th>\n",
              "      <td>1985</td>\n",
              "      <td>r&amp;b</td>\n",
              "      <td>doo doo doo doo doo doo mmm dooby dooby doo do...</td>\n",
              "      <td>[doo, doo, doo, doo, doo, doo, dooby, dooby, d...</td>\n",
              "      <td>411</td>\n",
              "      <td>[doo, doo, doo, doo, doo, doo, dooby, dooby, d...</td>\n",
              "    </tr>\n",
              "    <tr>\n",
              "      <th>17452</th>\n",
              "      <td>2008</td>\n",
              "      <td>r&amp;b</td>\n",
              "      <td>well i'm trying lord to be full of your convic...</td>\n",
              "      <td>[well, trying, lord, full, conviction, sometim...</td>\n",
              "      <td>222</td>\n",
              "      <td>[well, try, lord, full, conviction, sometime, ...</td>\n",
              "    </tr>\n",
              "    <tr>\n",
              "      <th>206307</th>\n",
              "      <td>2007</td>\n",
              "      <td>r&amp;b</td>\n",
              "      <td>lounging back in their golden chairs plastic s...</td>\n",
              "      <td>[lounging, back, golden, chairs, plastic, smil...</td>\n",
              "      <td>100</td>\n",
              "      <td>[lounge, back, golden, chair, plastic, smile, ...</td>\n",
              "    </tr>\n",
              "  </tbody>\n",
              "</table>\n",
              "<p>5600 rows × 6 columns</p>\n",
              "</div>"
            ],
            "text/plain": [
              "        year  ...                                         lemmatized\n",
              "77428   2006  ...  [dolly, parton, sang, love, song, day, meet, t...\n",
              "95893   2007  ...  [say, love, invite, life, excite, raise, count...\n",
              "37816   2007  ...  [go, hold, go, hold, go, hold, life, rough, so...\n",
              "39737   2007  ...  [heard, bell, christmas, day, old, familiar, c...\n",
              "190428  2008  ...  [stand, glass, ease, pain, settle, brain, firs...\n",
              "...      ...  ...                                                ...\n",
              "160090  2006  ...  [pay, money, get, ready, fun, get, afraid, get...\n",
              "29235   2008  ...  [water, turn, black, get, darker, afraid, afra...\n",
              "114037  1985  ...  [doo, doo, doo, doo, doo, doo, dooby, dooby, d...\n",
              "17452   2008  ...  [well, try, lord, full, conviction, sometime, ...\n",
              "206307  2007  ...  [lounge, back, golden, chair, plastic, smile, ...\n",
              "\n",
              "[5600 rows x 6 columns]"
            ]
          },
          "metadata": {
            "tags": []
          }
        }
      ]
    },
    {
      "cell_type": "markdown",
      "metadata": {
        "id": "Arfh4zjgXvA1"
      },
      "source": [
        "`WordNetLemmatizer().lemmatize()`prend l'argument `pos` en paramètre. Il est requis pour déterminer à quelle groupe un mot appartient (nom, adjectif, verbe, adverbe). Ainsi, on n'a pas le choix d'utiliser la fonction `pos_tag_sents` qui permet d'associer à chaque mot le groupe auquel il appartient. Cette fonction prend beaucoup de temps à exécuter, par contre, elle reste plus rapide que la fonction `pos_tag`. En effet, dans la documentation de `pos_tag`:\n",
        "```\n",
        "Use `pos_tag_sents()` for efficient tagging of more than one sentence.\n",
        "```\n",
        "\n",
        "**Note**: on utilise seulement 4 catégories, car `pos` n'accepte que les 4 susmentionnées, donc les mots qui ont des catégories en dehors de celles-là sont réassignés à la catégorie `NOUN`."
      ],
      "id": "Arfh4zjgXvA1"
    },
    {
      "cell_type": "markdown",
      "metadata": {
        "id": "dftyFJPyx14b"
      },
      "source": [
        "Enfin, On retransforme chaque liste de string en un seul string pour appliquer les 'Vectorizer'."
      ],
      "id": "dftyFJPyx14b"
    },
    {
      "cell_type": "code",
      "metadata": {
        "id": "YqkwBQ6goApR"
      },
      "source": [
        "def list_to_str(text):\n",
        "    return ' '.join(e for e in text)\n",
        "\n",
        "df_sample['lemmas'] = df_sample['lemmatized'].apply(list_to_str)\n",
        "\n",
        "df_sample.drop(columns=['lemmatized'], inplace=True)"
      ],
      "id": "YqkwBQ6goApR",
      "execution_count": null,
      "outputs": []
    },
    {
      "cell_type": "markdown",
      "metadata": {
        "id": "Xrj1S4R5n90Y"
      },
      "source": [
        "## Bag of Words (BoW)\n",
        "\n",
        "Première représentation numérique des paroles. Pour chaque chanson on crée un vecteur dont les composantes sont les occurences dans la chansons de chaque mot du 'vocabulaire' du corpus qui est l'ensemble des chansons."
      ],
      "id": "Xrj1S4R5n90Y"
    },
    {
      "cell_type": "code",
      "metadata": {
        "id": "B0ZHUas2oA1Q"
      },
      "source": [
        "#Création du bag of words avec CountVectorizer\n",
        "\n",
        "count_vect = CountVectorizer(lowercase=False, ngram_range=(1,1))\n",
        "counts = count_vect.fit_transform(df_sample['lemmas'])"
      ],
      "id": "B0ZHUas2oA1Q",
      "execution_count": null,
      "outputs": []
    },
    {
      "cell_type": "markdown",
      "metadata": {
        "id": "WZHFPjRrm2wx"
      },
      "source": [
        "## Term Frequency (TF)\n",
        "\n",
        "Cette mesure indique à quel point chaque token (ou mot) est fréquent dans les textes, relativement à la longueur des textes. Si un token particulier représente un pourcentage élevé de tous les tokens d'une chanson, alors celui-ci est peut-être bien \"représentatif\" de la chanson, ou y est bien spécifique."
      ],
      "id": "WZHFPjRrm2wx"
    },
    {
      "cell_type": "code",
      "metadata": {
        "id": "zWIV3kc-YRGi"
      },
      "source": [
        "#Sommes des colonnes de la matrice counts, compte le nombre total d'occurences \n",
        "#pour calculer les term frequencies.\n",
        "\n",
        "sums = np.sum(counts, axis=0)\n",
        "\n",
        "tfs = scipy.sparse.csr.csr_matrix(counts/sums)"
      ],
      "id": "zWIV3kc-YRGi",
      "execution_count": null,
      "outputs": []
    },
    {
      "cell_type": "markdown",
      "metadata": {
        "id": "KcEBNR0jY96j"
      },
      "source": [
        "Pour une amélioration très importante du temps de fit et prediction du *Random Forest*, on va utiliser une version *sparse* de la matrice des *Term Frequencies*. On passe d'un temps de calcul, pour `.fit()` avec *Random forest*, de 1m30s à 30s."
      ],
      "id": "KcEBNR0jY96j"
    },
    {
      "cell_type": "markdown",
      "metadata": {
        "id": "zZbCxOEtoDV3"
      },
      "source": [
        "## Term Frequency - Inverse Document Frequency (TF-IDF).\n",
        "\n",
        "\n",
        "Cette mesure plus complexe utilise aussi le term frequency calculé précedemment, mais le multiplie ensuite par l' *inverse document frequency*, qui indique dans quelle fraction de tous les documents un terme se trouve. \n",
        "\n",
        "Ainsi, le tf-idf représente l'importance d'un token contenu dans un document (ici les paroles d'une chanson) relativement au corpus entier.\n",
        "\n",
        "On suppose que cette mesure devrait être meilleure que la term frequency seule pour la classification."
      ],
      "id": "zZbCxOEtoDV3"
    },
    {
      "cell_type": "code",
      "metadata": {
        "id": "PY6ZbPSZaDq4",
        "colab": {
          "base_uri": "https://localhost:8080/"
        },
        "outputId": "005c01f1-7831-46d9-af3a-7e5dce21c7d9"
      },
      "source": [
        "#Même logique que pour les tfs mais ici le vectorizer fais tous les calculs\n",
        "\n",
        "tfidf_vectorizer = TfidfVectorizer(lowercase=False,ngram_range=(1,1)) \n",
        "tfidfs = tfidf_vectorizer.fit_transform(df_sample['lemmas'])\n",
        "\n",
        "print(tfidf_vectorizer)"
      ],
      "id": "PY6ZbPSZaDq4",
      "execution_count": null,
      "outputs": [
        {
          "output_type": "stream",
          "text": [
            "TfidfVectorizer(analyzer='word', binary=False, decode_error='strict',\n",
            "                dtype=<class 'numpy.float64'>, encoding='utf-8',\n",
            "                input='content', lowercase=False, max_df=1.0, max_features=None,\n",
            "                min_df=1, ngram_range=(1, 1), norm='l2', preprocessor=None,\n",
            "                smooth_idf=True, stop_words=None, strip_accents=None,\n",
            "                sublinear_tf=False, token_pattern='(?u)\\\\b\\\\w\\\\w+\\\\b',\n",
            "                tokenizer=None, use_idf=True, vocabulary=None)\n"
          ],
          "name": "stdout"
        }
      ]
    },
    {
      "cell_type": "markdown",
      "metadata": {
        "id": "Y91dFVVDSMNx"
      },
      "source": [
        "Par défaut, `norm=\"l2\"`. C'est un traitement important à faire quand on a des features qui sont équivalents. Ainsi, les chanson plus courtes ne sont pas pénalisées vis-à-vis des chansons plus longues; le nombre de mots dans une chanson plus longue est plus grand que celui dans les chansons courtes.\n",
        "\n",
        "$$\\|\\vec x\\|_2 = \\sqrt{x_1^2+x_2^2+ \\dots + x_n^2}$$\n",
        "\n",
        "Donc pour avoir $\\|x\\|_2 = 1$, il suffit de diviser $\\vec x$ par $\\|\\vec x\\|$."
      ],
      "id": "Y91dFVVDSMNx"
    },
    {
      "cell_type": "markdown",
      "metadata": {
        "id": "z_q5Wz1id5p7"
      },
      "source": [
        "# Préparation des classificateurs"
      ],
      "id": "z_q5Wz1id5p7"
    },
    {
      "cell_type": "markdown",
      "metadata": {
        "id": "3z9gqP07CzZW"
      },
      "source": [
        "Pour *Naive Bayes*, on utilisera `MultinomialNB()` avec *Bag of Words* et *TF-IDF* puisque les vecteurs contiennent des valeurs entières (voir plus bas pour *TF-IDF*) et `GaussianNB()` pour la représentation numériques *Term Frequency* qui contient des valeurs continues."
      ],
      "id": "3z9gqP07CzZW"
    },
    {
      "cell_type": "code",
      "metadata": {
        "id": "NEGZ-8lal2WB"
      },
      "source": [
        "dt_classifier = tree.DecisionTreeClassifier(random_state=0)\n",
        "rf_classifier = ensemble.RandomForestClassifier(random_state=0)\n",
        "gnb_classifier = naive_bayes.GaussianNB()\n",
        "mnb_classifier = naive_bayes.MultinomialNB(alpha=0.5)"
      ],
      "id": "NEGZ-8lal2WB",
      "execution_count": null,
      "outputs": []
    },
    {
      "cell_type": "markdown",
      "metadata": {
        "id": "IXEsmVmH0MMb"
      },
      "source": [
        "Pour `MultinomialNB`, le paramètre `alpha` est égal à 1.0 par défaut, mais il est suggérer de tester différentes valeurs. Après plusieurs essais, 0.5 semble donner dans les meilleurs résultats."
      ],
      "id": "IXEsmVmH0MMb"
    },
    {
      "cell_type": "markdown",
      "metadata": {
        "id": "ZR2VHgTHbjr7"
      },
      "source": [
        "# (4ab) Bag of Words"
      ],
      "id": "ZR2VHgTHbjr7"
    },
    {
      "cell_type": "markdown",
      "metadata": {
        "id": "CKpz77ESefdr"
      },
      "source": [
        "## (3c) Séparation en datasets d'entrainement et de test"
      ],
      "id": "CKpz77ESefdr"
    },
    {
      "cell_type": "code",
      "metadata": {
        "id": "vIjPC7-bewxa"
      },
      "source": [
        "X_train_bow, X_test_bow, y_train_bow, y_test_bow = tts(counts, target, test_size=0.2, random_state = 0)"
      ],
      "id": "vIjPC7-bewxa",
      "execution_count": null,
      "outputs": []
    },
    {
      "cell_type": "markdown",
      "metadata": {
        "id": "RbDXeeJwbvc3"
      },
      "source": [
        "## Decision Tree"
      ],
      "id": "RbDXeeJwbvc3"
    },
    {
      "cell_type": "code",
      "metadata": {
        "id": "dVkmyG2UbjOa",
        "colab": {
          "base_uri": "https://localhost:8080/"
        },
        "outputId": "48e071a3-a420-4705-ea90-306c2b869202"
      },
      "source": [
        "t1 = time.process_time()\n",
        "\n",
        "%memit\n",
        "dt_classifier.fit(X_train_bow, y_train_bow)\n",
        "\n",
        "t_bw_dt_fit = (time.process_time()-t1)\n",
        "\n",
        "t2 = time.process_time()\n",
        "\n",
        "%memit\n",
        "dt_pred_bow = dt_classifier.predict(X_test_bow)\n",
        "\n",
        "t_bw_dt_pred = (time.process_time()-t2)\n",
        "bw_dt_acc= dt_classifier.score(X_test_bow, y_test_bow).round(2)"
      ],
      "id": "dVkmyG2UbjOa",
      "execution_count": null,
      "outputs": [
        {
          "output_type": "stream",
          "text": [
            "peak memory: 3296.40 MiB, increment: 0.42 MiB\n",
            "peak memory: 3298.78 MiB, increment: 0.00 MiB\n"
          ],
          "name": "stdout"
        }
      ]
    },
    {
      "cell_type": "markdown",
      "metadata": {
        "id": "uDEe1PYzPBnE"
      },
      "source": [
        "Le *Decision Tree* n'est pas très bon en *NLP*, puisque peu de *labels* partagent les même *features*, ce qui rend difficile de trouver une bonne hiérarchie de noeuds."
      ],
      "id": "uDEe1PYzPBnE"
    },
    {
      "cell_type": "markdown",
      "metadata": {
        "id": "nxe8-ftGrTGx"
      },
      "source": [
        "## Random Forest"
      ],
      "id": "nxe8-ftGrTGx"
    },
    {
      "cell_type": "code",
      "metadata": {
        "id": "FlMmXHmjtCj2",
        "colab": {
          "base_uri": "https://localhost:8080/"
        },
        "outputId": "65e10771-fe74-47b4-8e8c-20891006d42d"
      },
      "source": [
        "t1 = time.process_time()\n",
        "\n",
        "%memit\n",
        "rf_classifier.fit(X_train_bow, y_train_bow)\n",
        "\n",
        "t_bw_rf_fit = time.process_time() - t1\n",
        "t2 = time.process_time()\n",
        "\n",
        "%memit\n",
        "rf_pred_bow = rf_classifier.predict(X_test_bow)\n",
        "\n",
        "t_bw_rf_pred = time.process_time()-t2\n",
        "bw_rf_acc = metrics.accuracy_score(y_test_bow, rf_pred_bow).round(3)"
      ],
      "id": "FlMmXHmjtCj2",
      "execution_count": null,
      "outputs": [
        {
          "output_type": "stream",
          "text": [
            "peak memory: 3298.86 MiB, increment: 0.00 MiB\n",
            "peak memory: 3324.52 MiB, increment: 0.00 MiB\n"
          ],
          "name": "stdout"
        }
      ]
    },
    {
      "cell_type": "markdown",
      "metadata": {
        "id": "ulNLXosThF5q"
      },
      "source": [
        "*On* remarque que l'accuracy s'est améliorée, mais l'apprentissage prend plus de temps en raison du fait qu'un Random Forest est une collection de Decision Tree. La mémoire utilisée est comparable à l'algorithme précédent."
      ],
      "id": "ulNLXosThF5q"
    },
    {
      "cell_type": "markdown",
      "metadata": {
        "id": "YplC1X2Hh301"
      },
      "source": [
        "## Naive Bayes"
      ],
      "id": "YplC1X2Hh301"
    },
    {
      "cell_type": "code",
      "metadata": {
        "id": "OVEWBqNFj0yl"
      },
      "source": [
        "t1 = time.process_time()\n",
        "\n",
        "#%memit\n",
        "mnb_classifier.fit(X_train_bow, y_train_bow) # .toarray() car `dense numpy array is required`  .toarray()\n",
        "\n",
        "t_bw_nb_fit = time.process_time() -t1\n",
        "\n",
        "#%memit\n",
        "mnb_pred_bow = mnb_classifier.predict(X_test_bow)#ici\n",
        "\n",
        "t_bw_nb_pred = time.process_time()-(t1+t_bw_nb_fit)\n",
        "bw_nb_acc = metrics.accuracy_score(y_test_bow, mnb_pred_bow).round(3)"
      ],
      "id": "OVEWBqNFj0yl",
      "execution_count": null,
      "outputs": []
    },
    {
      "cell_type": "code",
      "metadata": {
        "colab": {
          "base_uri": "https://localhost:8080/"
        },
        "id": "J8VLSuGjJHB5",
        "outputId": "588194de-e99c-4f16-d7e1-be5f76fbac46"
      },
      "source": [
        "t_bw_nb_fit"
      ],
      "id": "J8VLSuGjJHB5",
      "execution_count": null,
      "outputs": [
        {
          "output_type": "execute_result",
          "data": {
            "text/plain": [
              "0.043601079999987746"
            ]
          },
          "metadata": {
            "tags": []
          },
          "execution_count": 25
        }
      ]
    },
    {
      "cell_type": "markdown",
      "metadata": {
        "id": "1hWFardwP1ZS"
      },
      "source": [
        "Meilleure performance obtenue jusqu'à présent. Le seul problème est le fait que l'algorithme utilise beaucoup de ressource (temps de calcul, mémoire)."
      ],
      "id": "1hWFardwP1ZS"
    },
    {
      "cell_type": "markdown",
      "metadata": {
        "id": "PsFNeVC2h9EF"
      },
      "source": [
        "# (4ab) Term Frequency"
      ],
      "id": "PsFNeVC2h9EF"
    },
    {
      "cell_type": "markdown",
      "metadata": {
        "id": "yhNDAGLU3z1E"
      },
      "source": [
        "Pour la comparaison détaillée du reste des algorithmes, voir le tableau à la fin."
      ],
      "id": "yhNDAGLU3z1E"
    },
    {
      "cell_type": "markdown",
      "metadata": {
        "id": "Ktmq7H4UCHjs"
      },
      "source": [
        "## (3c) Séparation en datasets d'entrainement et de test"
      ],
      "id": "Ktmq7H4UCHjs"
    },
    {
      "cell_type": "code",
      "metadata": {
        "id": "EGgLlNtbiK9M"
      },
      "source": [
        "X_train_tf, X_test_tf,y_train_tf, y_test_tf = tts(tfs, target, test_size =0.2, random_state=0)"
      ],
      "id": "EGgLlNtbiK9M",
      "execution_count": null,
      "outputs": []
    },
    {
      "cell_type": "markdown",
      "metadata": {
        "id": "2uOlgsoQjOcp"
      },
      "source": [
        "## Decision Tree"
      ],
      "id": "2uOlgsoQjOcp"
    },
    {
      "cell_type": "code",
      "metadata": {
        "id": "_66ycXW1jQef",
        "colab": {
          "base_uri": "https://localhost:8080/"
        },
        "outputId": "18930d38-0c01-465c-acff-4221946663e6"
      },
      "source": [
        "t1 = time.process_time()\n",
        "\n",
        "%memit\n",
        "dt_classifier.fit(X_train_tf, y_train_tf)\n",
        "\n",
        "t_tf_dt_fit = time.process_time()-t1\n",
        "t2 = time.process_time()\n",
        "\n",
        "%memit\n",
        "dt_pred_tf = dt_classifier.predict(X_test_tf)\n",
        "\n",
        "t_tf_dt_pred = time.process_time()-t2\n",
        "\n",
        "tf_dt_acc =dt_classifier.score(X_test_tf, y_test_tf).round(3)\n"
      ],
      "id": "_66ycXW1jQef",
      "execution_count": null,
      "outputs": [
        {
          "output_type": "stream",
          "text": [
            "peak memory: 3324.82 MiB, increment: 0.00 MiB\n",
            "peak memory: 3324.83 MiB, increment: 0.00 MiB\n"
          ],
          "name": "stdout"
        }
      ]
    },
    {
      "cell_type": "markdown",
      "metadata": {
        "id": "r4sd-DoxiY11"
      },
      "source": [
        "## Random Forest"
      ],
      "id": "r4sd-DoxiY11"
    },
    {
      "cell_type": "code",
      "metadata": {
        "id": "nRzilb6BCLYw",
        "colab": {
          "base_uri": "https://localhost:8080/"
        },
        "outputId": "0fbc5845-4662-472f-bf1f-ab9c26c56e7a"
      },
      "source": [
        "t1 = time.process_time()\n",
        "\n",
        "%memit\n",
        "rf_classifier.fit(X_train_tf, y_train_tf)\n",
        "t_tf_rf_fit = time.process_time()-t1\n",
        "\n",
        "%memit\n",
        "rf_pred_tf = rf_classifier.predict(X_test_tf)\n",
        "t_tf_rf_pred = time.process_time()-(t1+t_tf_rf_fit)\n",
        "\n",
        "tf_rf_acc=  metrics.accuracy_score(y_test_tf,rf_pred_tf).round(2)"
      ],
      "id": "nRzilb6BCLYw",
      "execution_count": null,
      "outputs": [
        {
          "output_type": "stream",
          "text": [
            "peak memory: 3324.83 MiB, increment: 0.00 MiB\n",
            "peak memory: 3332.45 MiB, increment: 0.00 MiB\n"
          ],
          "name": "stdout"
        }
      ]
    },
    {
      "cell_type": "markdown",
      "metadata": {
        "id": "OD8EdlgUksXt"
      },
      "source": [
        "## Naive Bayes"
      ],
      "id": "OD8EdlgUksXt"
    },
    {
      "cell_type": "code",
      "metadata": {
        "id": "x22Q7J2JkuH3",
        "colab": {
          "base_uri": "https://localhost:8080/"
        },
        "outputId": "fb66a013-c429-4a11-8cd8-a57ba8632154"
      },
      "source": [
        "t1 = time.process_time()\n",
        "\n",
        "%memit\n",
        "gnb_classifier.fit(X_train_tf.toarray(), y_train_tf)\n",
        "t_tf_nb_fit = time.process_time()-t1\n",
        "\n",
        "%memit\n",
        "gnb_pred_tf = gnb_classifier.predict(X_test_tf.toarray())\n",
        "\n",
        "t_tf_nb_pred = time.process_time()-(t1+t_tf_nb_fit)\n",
        "\n",
        "tf_nb_acc = metrics.accuracy_score(y_test_tf, gnb_pred_tf).round(3)"
      ],
      "id": "x22Q7J2JkuH3",
      "execution_count": null,
      "outputs": [
        {
          "output_type": "stream",
          "text": [
            "peak memory: 3332.45 MiB, increment: 0.00 MiB\n",
            "peak memory: 3332.46 MiB, increment: 0.00 MiB\n"
          ],
          "name": "stdout"
        }
      ]
    },
    {
      "cell_type": "markdown",
      "metadata": {
        "id": "tooiiSeoBPpS"
      },
      "source": [
        "# (4ab) Term Frequency - Inverse Document Frequency"
      ],
      "id": "tooiiSeoBPpS"
    },
    {
      "cell_type": "markdown",
      "metadata": {
        "id": "q1xspNSb4Qsg"
      },
      "source": [
        "Avec cette méthode, les algorithmes utilisent beaucoup plus de mémoire."
      ],
      "id": "q1xspNSb4Qsg"
    },
    {
      "cell_type": "markdown",
      "metadata": {
        "id": "bjn9YE9Mixdy"
      },
      "source": [
        "## (3c) Séparation en datasets d'entrainement et de test"
      ],
      "id": "bjn9YE9Mixdy"
    },
    {
      "cell_type": "code",
      "metadata": {
        "id": "OIDEayl1i2n1"
      },
      "source": [
        "X_train_tfidf, X_test_tfidf, y_train_tfidf, y_test_tfidf = tts(tfidfs, target.tolist(), test_size =0.2, random_state = 0)"
      ],
      "id": "OIDEayl1i2n1",
      "execution_count": null,
      "outputs": []
    },
    {
      "cell_type": "markdown",
      "metadata": {
        "id": "esxRZ_u0kj0V"
      },
      "source": [
        "## Decision Tree"
      ],
      "id": "esxRZ_u0kj0V"
    },
    {
      "cell_type": "code",
      "metadata": {
        "id": "5G2JmBHTkl_q",
        "colab": {
          "base_uri": "https://localhost:8080/"
        },
        "outputId": "90a09a0a-f282-4b2a-a91a-3dda5dd22d42"
      },
      "source": [
        "t1 = time.process_time()\n",
        "\n",
        "%memit\n",
        "dt_classifier.fit(X_train_tfidf, y_train_tfidf)\n",
        "\n",
        "t_idf_dt_fit = time.process_time()-t1\n",
        "\n",
        "%memit\n",
        "dt_pred_tfidf = dt_classifier.predict(X_test_tfidf)\n",
        "\n",
        "t_idf_dt_pred = time.process_time()-(t1+t_idf_dt_fit)\n",
        "\n",
        "idf_dt_acc = metrics.accuracy_score(y_test_tfidf,dt_pred_tfidf).round(3)"
      ],
      "id": "5G2JmBHTkl_q",
      "execution_count": null,
      "outputs": [
        {
          "output_type": "stream",
          "text": [
            "peak memory: 3332.52 MiB, increment: 0.00 MiB\n",
            "peak memory: 3332.56 MiB, increment: 0.02 MiB\n"
          ],
          "name": "stdout"
        }
      ]
    },
    {
      "cell_type": "markdown",
      "metadata": {
        "id": "Bl3o19K_kzMw"
      },
      "source": [
        "## Random Forest"
      ],
      "id": "Bl3o19K_kzMw"
    },
    {
      "cell_type": "code",
      "metadata": {
        "id": "Vx1oJdGj9H1d",
        "colab": {
          "base_uri": "https://localhost:8080/"
        },
        "outputId": "7e2d7429-2167-420e-b3aa-c8677d9ae3eb"
      },
      "source": [
        "t1 = time.process_time()\n",
        "\n",
        "%memit\n",
        "rf_classifier.fit(X_train_tfidf, y_train_tfidf)\n",
        "\n",
        "t_idf_rf_fit = time.process_time()-t1\n",
        "\n",
        "%memit\n",
        "rf_pred_tfidf = rf_classifier.predict(X_test_tfidf)\n",
        "\n",
        "t_idf_rf_pred = time.process_time()-(t1+t_idf_rf_fit)\n",
        "\n",
        "idf_rf_acc = metrics.accuracy_score(y_test_tfidf, rf_pred_tfidf).round(3)"
      ],
      "id": "Vx1oJdGj9H1d",
      "execution_count": null,
      "outputs": [
        {
          "output_type": "stream",
          "text": [
            "peak memory: 3332.56 MiB, increment: 0.00 MiB\n",
            "peak memory: 3332.57 MiB, increment: 0.00 MiB\n"
          ],
          "name": "stdout"
        }
      ]
    },
    {
      "cell_type": "markdown",
      "metadata": {
        "id": "68TXOb54k4OG"
      },
      "source": [
        "## Naive Bayes"
      ],
      "id": "68TXOb54k4OG"
    },
    {
      "cell_type": "code",
      "metadata": {
        "id": "D5zupPpsi5BT",
        "colab": {
          "base_uri": "https://localhost:8080/"
        },
        "outputId": "bfc5d4c1-5898-4bbb-89ef-a343e97b9e98"
      },
      "source": [
        "t1 = time.process_time()\n",
        "\n",
        "%memit\n",
        "mnb_classifier.fit(X_train_tfidf.todense(), y_train_tfidf)\n",
        "\n",
        "t_idf_nb_fit = time.process_time()-t1\n",
        "\n",
        "%memit\n",
        "gnb_pred_tfidf = mnb_classifier.predict(X_test_tfidf.todense())\n",
        "\n",
        "t_idf_nb_pred = time.process_time()-(t1+t_idf_nb_fit)\n",
        "\n",
        "idf_nb_acc = metrics.accuracy_score(y_test_tfidf, gnb_pred_tfidf).round(3)"
      ],
      "id": "D5zupPpsi5BT",
      "execution_count": null,
      "outputs": [
        {
          "output_type": "stream",
          "text": [
            "peak memory: 3332.57 MiB, increment: 0.00 MiB\n",
            "peak memory: 3336.66 MiB, increment: 0.16 MiB\n"
          ],
          "name": "stdout"
        }
      ]
    },
    {
      "cell_type": "markdown",
      "metadata": {
        "id": "Nd9GjEIAzVja"
      },
      "source": [
        "Techniquement, `GaussianNB` devrait être utilisé puisque le jeu de données contient des valeurs continues, par contre, selon la documentation de `MultinomialNB`: \n",
        "```\n",
        "The multinomial Naive Bayes classifier is suitable for classification with\n",
        "discrete features (e.g., word counts for text classification). The\n",
        "multinomial distribution normally requires integer feature counts. However,\n",
        "in practice, fractional counts such as tf-idf may also work.\n",
        " ```\n",
        "\n",
        " Et en effet, le score obtenu est meilleur en utilisant `MultinomialNB`. On passe d'environ $0.24$ (et un temps d'exécution de 6.2s) à $0.323$ en 2.4s."
      ],
      "id": "Nd9GjEIAzVja"
    },
    {
      "cell_type": "markdown",
      "metadata": {
        "id": "XAfmsXKgfpOR"
      },
      "source": [
        "# Prise en charge des prédicteurs `year` et `length`\n",
        "Ces deux paramètres nous semblent intéressants, car il est connu que chaque époque a eu un genre musical surreprésenté en fonction des modes et des tendences. C'est d'ailleurs une donnée qui se vérifie empiriquement. Pour ce qui est de la longueur des paroles, nous en avons déjà parlé un peu plus haut.\n",
        "\n",
        "Les deux meilleures performance ont été obtenues avec **Naive Bayes** et **Random Forest**. On fera donc 2 modèles:\n",
        "- *Random Forest* avec *TF-IDF*;\n",
        "- *Naive Bayes* avec *BoW*."
      ],
      "id": "XAfmsXKgfpOR"
    },
    {
      "cell_type": "markdown",
      "metadata": {
        "id": "XhOOrFg-Tb3S"
      },
      "source": [
        "On doit normaliser pour ne pas qu'il y ait une prédominance de `year`et `length`."
      ],
      "id": "XhOOrFg-Tb3S"
    },
    {
      "cell_type": "code",
      "metadata": {
        "id": "_clB2vt25hNJ"
      },
      "source": [
        "scaler = preprocessing.MinMaxScaler()"
      ],
      "id": "_clB2vt25hNJ",
      "execution_count": null,
      "outputs": []
    },
    {
      "cell_type": "code",
      "metadata": {
        "id": "RBbN6YrntE_p"
      },
      "source": [
        "X = tfidfs.toarray()\n",
        "\n",
        "X = np.array(list(map(lambda r, y, l: np.append(r, [y,l]), X, df_sample[\"year\"], df_sample[\"length\"])))\n",
        "\n",
        "X_train_tfidf_mod, X_test_tfidf_mod, y_train_tfidf_mod, y_test_tfidf_mod = tts(X, target, test_size =0.2, random_state = 0)\n",
        "\n",
        "X_train_tfidf_mod[:,X_train_tfidf_mod.shape[1]-2:X_train_tfidf_mod.shape[1]] = scaler.fit_transform(\n",
        "    X_train_tfidf_mod[:,X_train_tfidf_mod.shape[1]-2:X_train_tfidf_mod.shape[1]])\n",
        "X_test_tfidf_mod[:,X_test_tfidf_mod.shape[1]-2:X_test_tfidf_mod.shape[1]] = scaler.transform(\n",
        "    X_test_tfidf_mod[:,X_test_tfidf_mod.shape[1]-2:X_test_tfidf_mod.shape[1]])\n",
        "\n",
        "t1 = time.process_time()\n",
        "\n",
        "#%memit\n",
        "rf_classifier.fit(X_train_tfidf_mod, y_train_tfidf_mod)\n",
        "t_idf_extra_fit = time.process_time()-t1\n",
        "\n",
        "#%memit\n",
        "rf_pred_tfidf_mod = rf_classifier.predict(X_test_tfidf_mod)\n",
        "t_idf_extra_pred = time.process_time()-(t1+t_idf_extra_fit)\n",
        "\n",
        "accu_idf_extra = metrics.accuracy_score(y_test_tfidf_mod, rf_pred_tfidf_mod).round(3)"
      ],
      "id": "RBbN6YrntE_p",
      "execution_count": null,
      "outputs": []
    },
    {
      "cell_type": "code",
      "metadata": {
        "colab": {
          "base_uri": "https://localhost:8080/"
        },
        "id": "64PM4BEPGhvz",
        "outputId": "fe6fe289-e457-4160-cf85-e02896d04100"
      },
      "source": [
        "X = counts.toarray()\n",
        "X = np.array(list(map(lambda r, y, l: np.append(r, [y,l]), X, df_sample[\"year\"], df_sample[\"length\"])),dtype='float64')\n",
        "\n",
        "X_train_bow_mod, X_test_bow_mod, y_train_bow_mod, y_test_bow_mod = tts(X, target, test_size =0.2, random_state = 0)\n",
        "\n",
        "X_train_bow_mod[:,X_train_bow_mod.shape[1]-2:X_train_bow_mod.shape[1]] = scaler.fit_transform(\n",
        "    X_train_bow_mod[:,X_train_bow_mod.shape[1]-2:X_train_bow_mod.shape[1]])\n",
        "X_test_bow_mod[:,X_test_bow_mod.shape[1]-2:X_test_bow_mod.shape[1]] = scaler.transform(\n",
        "    X_test_bow_mod[:,X_test_bow_mod.shape[1]-2:X_test_bow_mod.shape[1]])\n",
        "\n",
        "t1 = time.process_time()\n",
        "\n",
        "\n",
        "mnb_classifier.fit(X_train_bow_mod, y_train_bow_mod)\n",
        "t_bow_extra_fit = time.process_time()-t1\n",
        "\n",
        "%memit\n",
        "mnb_pred_bow_mod = mnb_classifier.predict(X_test_bow_mod)\n",
        "t_bow_extra_pred = time.process_time()-(t1+t_bow_extra_fit)\n",
        "\n",
        "accu_bow_extra = metrics.accuracy_score(y_test_bow_mod, mnb_pred_bow_mod).round(3)\n"
      ],
      "id": "64PM4BEPGhvz",
      "execution_count": null,
      "outputs": [
        {
          "output_type": "stream",
          "text": [
            "peak memory: 5541.23 MiB, increment: -0.04 MiB\n"
          ],
          "name": "stdout"
        }
      ]
    },
    {
      "cell_type": "markdown",
      "metadata": {
        "id": "x8npAJKgMO9_"
      },
      "source": [
        "Ce qui est remarquable, c'est qu'en ajoutant deux prédicteurs, le temps de calcul fond à 6 secondes. C'est un contraste important avec le modèle sans ces 2 variables (1m30s). Du reste, la performance est similaire."
      ],
      "id": "x8npAJKgMO9_"
    },
    {
      "cell_type": "markdown",
      "metadata": {
        "id": "Y3W84ZCyggdF"
      },
      "source": [
        "En somme, les scores obtenus sont plutôt bas, même si les deux prédicteurs supplémentaires semblent aider. Toutefois, si l'on tient compte du fait qu'il y a 11 genres, alors une réponse complètement aléatoire devrait donner un score d'environ 9%. Or, dans les simulations que nous avons faites, on a pu atteindre une accuracy frôlant les 40%, ce qui est excellent compte tenu de la tâche. En effet, il semble beaucoup plus complexe de dire à quel genre une chanson appartient en fonction du vocabulaire qu'il contient en comparaison avec d'autre classifications, comme le sport ou la cuisine. C'est que l'ensemble du vocabulaire est beaucoup moins pointu (narrow) que pour catégoriser des recettes, par exemple. Des chansons ayant un champ lexical tournant autour de l'amour existent dans environ tous les styles et c'est d'ailleurs probablement l'un des thèmes les plus récurrent, mais c'est un point qui serait à vérifier. Quoi qu'il en soit, c'est une tâche qui resterait difficile à faire même pour un humain.\n",
        "\n",
        "Une chose à laquelle nous nous attendions pas est le fait que la taille d'échantillon pour développer les modèles a eu un impact très marginal sur la force du modèle. En effet, le fait de passer d'un jeu de données de $11*150$ entrées à $11*1689$ n'a fait varier l'accuracy favorablement que de 2-3 points de pourcentage. On aurait pu comparer sur un graphique l'accuracy en fonction de la taille de l'échantillon, mais le temps de calcul devient rapidement très long.\n",
        "\n",
        "Note bonus: nous avons fait l'essai de classifier le genre uniquement selon l'année et le nombre de mots dans la chanson avec *Random Forest* et nous avons obtenu un score de .2, ce qui est mieux que le hasard et ce qui est, en fait, aussi mieux que certains résultats obtenus précédemment!"
      ],
      "id": "Y3W84ZCyggdF"
    },
    {
      "cell_type": "markdown",
      "metadata": {
        "id": "C0I_hAlDmJPf"
      },
      "source": [
        "# (5) Visualisation de la performance avec la matrice de confusion"
      ],
      "id": "C0I_hAlDmJPf"
    },
    {
      "cell_type": "markdown",
      "metadata": {
        "id": "G3gTl9CSmWYi"
      },
      "source": [
        "Pour cette dernière partie, on va utiliser les meilleurs résultats que nous avons obtenus (*Naive Bayes* et *Random Forest* avec les prédicteurs supplémentaires)."
      ],
      "id": "G3gTl9CSmWYi"
    },
    {
      "cell_type": "code",
      "metadata": {
        "id": "rk__fuZKxQWk",
        "colab": {
          "base_uri": "https://localhost:8080/",
          "height": 540
        },
        "outputId": "2026c604-2d51-4709-d4b5-34b4ffd2379e"
      },
      "source": [
        "cf_rf = metrics.confusion_matrix(y_test_tfidf_mod, rf_pred_tfidf_mod, normalize=\"true\")\n",
        "cf_nb = metrics.confusion_matrix(y_test_bow_mod, mnb_pred_bow_mod, normalize=\"true\")\n",
        "\n",
        "plt.figure(figsize=(20,8))\n",
        "plt.suptitle(\"Matrices de confusion\")\n",
        "\n",
        "plt.subplot(1,2,1)\n",
        "sns.heatmap(cf_rf.round(1), annot=True, xticklabels=target.unique(), yticklabels=target.unique(), cmap=\"Blues\")\n",
        "plt.title(\"Random Forest\")\n",
        "\n",
        "plt.subplot(1,2,2)\n",
        "sns.heatmap(cf_nb.round(1), annot=True, xticklabels=target.unique(), yticklabels=target.unique(), cmap=\"Blues\")\n",
        "plt.title(\"Naive Bayes\")\n",
        "\n",
        "plt.show()"
      ],
      "id": "rk__fuZKxQWk",
      "execution_count": null,
      "outputs": [
        {
          "output_type": "display_data",
          "data": {
            "image/png": "[encoded data removed]",
            "text/plain": [
              "<Figure size 1440x576 with 4 Axes>"
            ]
          },
          "metadata": {
            "tags": [],
            "needs_background": "light"
          }
        }
      ]
    },
    {
      "cell_type": "markdown",
      "metadata": {
        "id": "-uOsxawi7myE"
      },
      "source": [
        "On voit que ce ne sont pas tout à fait les mêmes genres musicaux qui sont le mieux classés. En effet, *Random Forest* arrive à bien classifier les chansons appartenant à `other`, mais ce n'est pas le cas de *Naive Bayes*. Du reste, on peut dire que les deux genres ayant eu la meilleure classification sont `hip-hop` et `metal`. On avait d'ailleurs vu, dans le diagramme de distribution, que `length` était très discriminant pour le genre `hip-hop`, où le nombre de paroles est beaucoup plus grand, en moyenne, que le reste des genres. Pourtant, les algorithmes performent aussi bien sans cette variable. "
      ],
      "id": "-uOsxawi7myE"
    },
    {
      "cell_type": "markdown",
      "metadata": {
        "id": "ASJGeC7fmPiY"
      },
      "source": [
        "Si l'on compare la matrice de confusion de gauche avec celle (ci-bas) obtenue par les chercheurs ayant travailler avec le même jeu de données pour développer un modèle de classification selon les paroles, on constate qu'il y a peu de similarités, mais cela est explicable par le fait qu'ils ont utilisé un algorithme de *deep learning*. D'ailleurs, ils ont pu obtenir une accuracy d'environ 62%, ce qui est pratiquement deux fois mieux que ce qu'on a pu obtenir avec le Random Forest.\n",
        "\n",
        " Quant aux genres les mieux classifiés avec *Deep Learning*, ce sont `Metal` et `Jazz`. Nous avons donc une catégorie en commun, mais pour les deux autres, elles ont été mal classifiées avec l'autre algorithme respectif. \n",
        "\n",
        "Enfin, les chansons qui ont été mal classifiées n'ont pas été toutes placées dans une catégorie \"fourre-tout\", à l'inverse des résultats obtenus avec le modèle de *deep learning*, où l'on peut voir que l'algorithme avait une préférence pour la catégorie `Indie`. En effet, on remarque qu'il y a des zéros pratiquement partout, hormis sur la diagonale principale et sur la dernière colonne, alors que dans le cas de nos modèle, les erreurs sont plus dispersées.\n",
        "\n",
        "La raison qui explique un taux de classification qui n'est pas de l'ordre du hasard se situe probablement dans le fait que l'algorithme classifie très bien certain genres, mais est médiocre pour le reste.\n",
        "\n",
        "Bref, on aurait probablement un meilleur taux de classification si l'on utilisait la mélodie plutôt que les paroles comme prédicteur."
      ],
      "id": "ASJGeC7fmPiY"
    },
    {
      "cell_type": "markdown",
      "metadata": {
        "id": "bYe3EdOds-Vk"
      },
      "source": [
        "![test](https://raw.githubusercontent.com/philipGaudreau/apprentissageSupervise/main/cf.png)"
      ],
      "id": "bYe3EdOds-Vk"
    },
    {
      "cell_type": "markdown",
      "metadata": {
        "id": "oyzkWFkF9bqn"
      },
      "source": [
        "$\\boxed{\\color{green}{\\mbox{BONUS}}} \\rightarrow$ *Just for fun*"
      ],
      "id": "oyzkWFkF9bqn"
    },
    {
      "cell_type": "code",
      "metadata": {
        "colab": {
          "base_uri": "https://localhost:8080/"
        },
        "id": "f5RSAZQOiHha",
        "outputId": "cf65aa7b-e266-4797-d030-9713084f4388"
      },
      "source": [
        "\n",
        "\n",
        "\n",
        "from sklearn import svm\n",
        "\n",
        "SVM = svm.SVC()\n",
        "SVM.fit(X_train_tfidf,y_train_tfidf)\n",
        "\n",
        "predictions_SVM = SVM.predict(X_test_tfidf)\n",
        "\n",
        "print(\"SVM Accuracy Score -> \",metrics.accuracy_score(predictions_SVM, y_test_tfidf).round(3))\n"
      ],
      "id": "f5RSAZQOiHha",
      "execution_count": null,
      "outputs": [
        {
          "output_type": "stream",
          "text": [
            "SVM Accuracy Score ->  0.492\n"
          ],
          "name": "stdout"
        }
      ]
    },
    {
      "cell_type": "markdown",
      "metadata": {
        "id": "y9yopc8qKHNV"
      },
      "source": [
        "# (4d) Run times"
      ],
      "id": "y9yopc8qKHNV"
    },
    {
      "cell_type": "code",
      "metadata": {
        "id": "5eYdfWSos2cU"
      },
      "source": [
        "#temps dexec du DT\n",
        "times_dt_fit = [t_bw_dt_fit, t_tf_dt_fit, t_idf_dt_fit]\n",
        "times_dt_pred = [t_bw_dt_pred,t_tf_dt_pred, t_idf_dt_pred]\n",
        "\n",
        "#random forest\n",
        "times_rf_fit = [t_bw_rf_fit, t_tf_rf_fit, t_idf_rf_fit]\n",
        "times_rf_pred = [t_bw_rf_pred,t_tf_rf_pred, t_idf_rf_pred]\n",
        "\n",
        "#naive bayes\n",
        "times_nb_fit = [t_bw_nb_fit, t_tf_nb_fit, t_idf_nb_fit]\n",
        "times_nb_pred = [t_bw_nb_pred,t_tf_nb_pred, t_idf_nb_pred]\n",
        "\n",
        "#extras\n",
        "times_extra_fit = [t_idf_extra_fit, t_bow_extra_fit ]\n",
        "times_extra_pred = [t_idf_extra_pred, t_bow_extra_pred]\n",
        "\n",
        "#accuracies\n",
        "accu_dt = [bw_dt_acc, tf_dt_acc, idf_dt_acc]\n",
        "accu_rf = [bw_rf_acc, tf_rf_acc, idf_rf_acc]\n",
        "accu_nb = [bw_nb_acc, tf_nb_acc, idf_nb_acc]\n",
        "accu_extra = [accu_idf_extra, accu_bow_extra]\n",
        "\n",
        "\n",
        "accu_dt = [100*acc for acc in accu_dt]\n",
        "accu_rf = [100*acc for acc in accu_rf]\n",
        "accu_nb = [100*acc for acc in accu_nb]\n",
        "accu_extra = [100*acc for acc in accu_extra]"
      ],
      "id": "5eYdfWSos2cU",
      "execution_count": null,
      "outputs": []
    },
    {
      "cell_type": "code",
      "metadata": {
        "id": "UOpz8XXzOLFf"
      },
      "source": [
        "algos = ['Decision tree BoW', 'Decision tree TF', 'Decision tree TFIDF',\n",
        "         'Random forest BoW','Random forest TF','Random forest TFIDF',\n",
        "         'Naive Bayes BoW','Naive Bayes TF','Naive Bayes TFIDF','RF+prédicteurs extras', 'Naive Bayes+prédicteurs extras']\n",
        "\n",
        "times_fit = [round(elem, 3) for elem in times_dt_fit+times_rf_fit+times_nb_fit+times_extra_fit]\n",
        "times_pred = [round(elem, 3) for elem in times_dt_pred+times_rf_pred+times_nb_pred+times_extra_pred]\n",
        "accuracies = [round(elem, 3) for elem in accu_dt+accu_rf+accu_nb+accu_extra]"
      ],
      "id": "UOpz8XXzOLFf",
      "execution_count": null,
      "outputs": []
    },
    {
      "cell_type": "markdown",
      "metadata": {
        "id": "eY4qSZ-K-dXm"
      },
      "source": [
        "### Comparaison des temps d'entraînement et prédiction ainsi qu'accuracy des algorithmes."
      ],
      "id": "eY4qSZ-K-dXm"
    },
    {
      "cell_type": "code",
      "metadata": {
        "id": "3z01RFOzKIQT",
        "colab": {
          "base_uri": "https://localhost:8080/",
          "height": 542
        },
        "outputId": "cc70c193-714b-4792-d3cc-d458e873877f"
      },
      "source": [
        "table = pd.DataFrame(data = np.array([algos,times_fit, times_pred, accuracies]).T).sort_values(by = 3, ascending=False).T\n",
        "\n",
        "colonnes=['Algorithme','Temps fitting (s)', 'Temps prediction (s)', 'Accuracy (%)']\n",
        "\n",
        "fig = go.Figure(data = [go.Table(\n",
        "    header=dict(values = colonnes,\n",
        "                align = 'center'),\n",
        "    cells=dict(values = table,\n",
        "               align = 'left')\n",
        ")])\n",
        "\n",
        "fig.show()"
      ],
      "id": "3z01RFOzKIQT",
      "execution_count": null,
      "outputs": [
        {
          "output_type": "display_data",
          "data": {
            "text/html": [
              "<html>\n",
              "<head><meta charset=\"utf-8\" /></head>\n",
              "<body>\n",
              "    <div>\n",
              "            <script src=\"https://cdnjs.cloudflare.com/ajax/libs/mathjax/2.7.5/MathJax.js?config=TeX-AMS-MML_SVG\"></script><script type=\"text/javascript\">if (window.MathJax) {MathJax.Hub.Config({SVG: {font: \"STIX-Web\"}});}</script>\n",
              "                <script type=\"text/javascript\">window.PlotlyConfig = {MathJaxConfig: 'local'};</script>\n",
              "        <script src=\"https://cdn.plot.ly/plotly-latest.min.js\"></script>    \n",
              "            <div id=\"828410ab-b2e0-45d2-9551-8287d6031dfb\" class=\"plotly-graph-div\" style=\"height:525px; width:100%;\"></div>\n",
              "            <script type=\"text/javascript\">\n",
              "                \n",
              "                    window.PLOTLYENV=window.PLOTLYENV || {};\n",
              "                    \n",
              "                if (document.getElementById(\"828410ab-b2e0-45d2-9551-8287d6031dfb\")) {\n",
              "                    Plotly.newPlot(\n",
              "                        '828410ab-b2e0-45d2-9551-8287d6031dfb',\n",
              "                        [{\"cells\": {\"align\": \"left\", \"values\": [[\"Naive Bayes+pr\\u00e9dicteurs extras\", \"Naive Bayes BoW\", \"RF+pr\\u00e9dicteurs extras\", \"Naive Bayes TFIDF\", \"Random forest TF\", \"Random forest BoW\", \"Random forest TFIDF\", \"Naive Bayes TF\", \"Decision tree BoW\", \"Decision tree TF\", \"Decision tree TFIDF\"], [\"0.587\", \"0.044\", \"23.676\", \"1.401\", \"14.239\", \"13.741\", \"13.709\", \"1.826\", \"2.993\", \"3.008\", \"3.252\"], [\"1.067\", \"0.002\", \"0.181\", \"1.134\", \"0.491\", \"0.475\", \"0.509\", \"1.58\", \"0.413\", \"0.408\", \"0.433\"], [\"51.4\", \"51.1\", \"49.3\", \"47.8\", \"45.0\", \"44.8\", \"44.0\", \"32.4\", \"30.0\", \"29.9\", \"28.9\"]]}, \"header\": {\"align\": \"center\", \"values\": [\"Algorithme\", \"Temps fitting (s)\", \"Temps prediction (s)\", \"Accuracy (%)\"]}, \"type\": \"table\"}],\n",
              "                        {\"template\": {\"data\": {\"bar\": [{\"error_x\": {\"color\": \"#2a3f5f\"}, \"error_y\": {\"color\": \"#2a3f5f\"}, \"marker\": {\"line\": {\"color\": \"#E5ECF6\", \"width\": 0.5}}, \"type\": \"bar\"}], \"barpolar\": [{\"marker\": {\"line\": {\"color\": \"#E5ECF6\", \"width\": 0.5}}, \"type\": \"barpolar\"}], \"carpet\": [{\"aaxis\": {\"endlinecolor\": \"#2a3f5f\", \"gridcolor\": \"white\", \"linecolor\": \"white\", \"minorgridcolor\": \"white\", \"startlinecolor\": \"#2a3f5f\"}, \"baxis\": {\"endlinecolor\": \"#2a3f5f\", \"gridcolor\": \"white\", \"linecolor\": \"white\", \"minorgridcolor\": \"white\", \"startlinecolor\": \"#2a3f5f\"}, \"type\": \"carpet\"}], \"choropleth\": [{\"colorbar\": {\"outlinewidth\": 0, \"ticks\": \"\"}, \"type\": \"choropleth\"}], \"contour\": [{\"colorbar\": {\"outlinewidth\": 0, \"ticks\": \"\"}, \"colorscale\": [[0.0, \"#0d0887\"], [0.1111111111111111, \"#46039f\"], [0.2222222222222222, \"#7201a8\"], [0.3333333333333333, \"#9c179e\"], [0.4444444444444444, \"#bd3786\"], [0.5555555555555556, \"#d8576b\"], [0.6666666666666666, \"#ed7953\"], [0.7777777777777778, \"#fb9f3a\"], [0.8888888888888888, \"#fdca26\"], [1.0, \"#f0f921\"]], \"type\": \"contour\"}], \"contourcarpet\": [{\"colorbar\": {\"outlinewidth\": 0, \"ticks\": \"\"}, \"type\": \"contourcarpet\"}], \"heatmap\": [{\"colorbar\": {\"outlinewidth\": 0, \"ticks\": \"\"}, \"colorscale\": [[0.0, \"#0d0887\"], [0.1111111111111111, \"#46039f\"], [0.2222222222222222, \"#7201a8\"], [0.3333333333333333, \"#9c179e\"], [0.4444444444444444, \"#bd3786\"], [0.5555555555555556, \"#d8576b\"], [0.6666666666666666, \"#ed7953\"], [0.7777777777777778, \"#fb9f3a\"], [0.8888888888888888, \"#fdca26\"], [1.0, \"#f0f921\"]], \"type\": \"heatmap\"}], \"heatmapgl\": [{\"colorbar\": {\"outlinewidth\": 0, \"ticks\": \"\"}, \"colorscale\": [[0.0, \"#0d0887\"], [0.1111111111111111, \"#46039f\"], [0.2222222222222222, \"#7201a8\"], [0.3333333333333333, \"#9c179e\"], [0.4444444444444444, \"#bd3786\"], [0.5555555555555556, \"#d8576b\"], [0.6666666666666666, \"#ed7953\"], [0.7777777777777778, \"#fb9f3a\"], [0.8888888888888888, \"#fdca26\"], [1.0, \"#f0f921\"]], \"type\": \"heatmapgl\"}], \"histogram\": [{\"marker\": {\"colorbar\": {\"outlinewidth\": 0, \"ticks\": \"\"}}, \"type\": \"histogram\"}], \"histogram2d\": [{\"colorbar\": {\"outlinewidth\": 0, \"ticks\": \"\"}, \"colorscale\": [[0.0, \"#0d0887\"], [0.1111111111111111, \"#46039f\"], [0.2222222222222222, \"#7201a8\"], [0.3333333333333333, \"#9c179e\"], [0.4444444444444444, \"#bd3786\"], [0.5555555555555556, \"#d8576b\"], [0.6666666666666666, \"#ed7953\"], [0.7777777777777778, \"#fb9f3a\"], [0.8888888888888888, \"#fdca26\"], [1.0, \"#f0f921\"]], \"type\": \"histogram2d\"}], \"histogram2dcontour\": [{\"colorbar\": {\"outlinewidth\": 0, \"ticks\": \"\"}, \"colorscale\": [[0.0, \"#0d0887\"], [0.1111111111111111, \"#46039f\"], [0.2222222222222222, \"#7201a8\"], [0.3333333333333333, \"#9c179e\"], [0.4444444444444444, \"#bd3786\"], [0.5555555555555556, \"#d8576b\"], [0.6666666666666666, \"#ed7953\"], [0.7777777777777778, \"#fb9f3a\"], [0.8888888888888888, \"#fdca26\"], [1.0, \"#f0f921\"]], \"type\": \"histogram2dcontour\"}], \"mesh3d\": [{\"colorbar\": {\"outlinewidth\": 0, \"ticks\": \"\"}, \"type\": \"mesh3d\"}], \"parcoords\": [{\"line\": {\"colorbar\": {\"outlinewidth\": 0, \"ticks\": \"\"}}, \"type\": \"parcoords\"}], \"pie\": [{\"automargin\": true, \"type\": \"pie\"}], \"scatter\": [{\"marker\": {\"colorbar\": {\"outlinewidth\": 0, \"ticks\": \"\"}}, \"type\": \"scatter\"}], \"scatter3d\": [{\"line\": {\"colorbar\": {\"outlinewidth\": 0, \"ticks\": \"\"}}, \"marker\": {\"colorbar\": {\"outlinewidth\": 0, \"ticks\": \"\"}}, \"type\": \"scatter3d\"}], \"scattercarpet\": [{\"marker\": {\"colorbar\": {\"outlinewidth\": 0, \"ticks\": \"\"}}, \"type\": \"scattercarpet\"}], \"scattergeo\": [{\"marker\": {\"colorbar\": {\"outlinewidth\": 0, \"ticks\": \"\"}}, \"type\": \"scattergeo\"}], \"scattergl\": [{\"marker\": {\"colorbar\": {\"outlinewidth\": 0, \"ticks\": \"\"}}, \"type\": \"scattergl\"}], \"scattermapbox\": [{\"marker\": {\"colorbar\": {\"outlinewidth\": 0, \"ticks\": \"\"}}, \"type\": \"scattermapbox\"}], \"scatterpolar\": [{\"marker\": {\"colorbar\": {\"outlinewidth\": 0, \"ticks\": \"\"}}, \"type\": \"scatterpolar\"}], \"scatterpolargl\": [{\"marker\": {\"colorbar\": {\"outlinewidth\": 0, \"ticks\": \"\"}}, \"type\": \"scatterpolargl\"}], \"scatterternary\": [{\"marker\": {\"colorbar\": {\"outlinewidth\": 0, \"ticks\": \"\"}}, \"type\": \"scatterternary\"}], \"surface\": [{\"colorbar\": {\"outlinewidth\": 0, \"ticks\": \"\"}, \"colorscale\": [[0.0, \"#0d0887\"], [0.1111111111111111, \"#46039f\"], [0.2222222222222222, \"#7201a8\"], [0.3333333333333333, \"#9c179e\"], [0.4444444444444444, \"#bd3786\"], [0.5555555555555556, \"#d8576b\"], [0.6666666666666666, \"#ed7953\"], [0.7777777777777778, \"#fb9f3a\"], [0.8888888888888888, \"#fdca26\"], [1.0, \"#f0f921\"]], \"type\": \"surface\"}], \"table\": [{\"cells\": {\"fill\": {\"color\": \"#EBF0F8\"}, \"line\": {\"color\": \"white\"}}, \"header\": {\"fill\": {\"color\": \"#C8D4E3\"}, \"line\": {\"color\": \"white\"}}, \"type\": \"table\"}]}, \"layout\": {\"annotationdefaults\": {\"arrowcolor\": \"#2a3f5f\", \"arrowhead\": 0, \"arrowwidth\": 1}, \"coloraxis\": {\"colorbar\": {\"outlinewidth\": 0, \"ticks\": \"\"}}, \"colorscale\": {\"diverging\": [[0, \"#8e0152\"], [0.1, \"#c51b7d\"], [0.2, \"#de77ae\"], [0.3, \"#f1b6da\"], [0.4, \"#fde0ef\"], [0.5, \"#f7f7f7\"], [0.6, \"#e6f5d0\"], [0.7, \"#b8e186\"], [0.8, \"#7fbc41\"], [0.9, \"#4d9221\"], [1, \"#276419\"]], \"sequential\": [[0.0, \"#0d0887\"], [0.1111111111111111, \"#46039f\"], [0.2222222222222222, \"#7201a8\"], [0.3333333333333333, \"#9c179e\"], [0.4444444444444444, \"#bd3786\"], [0.5555555555555556, \"#d8576b\"], [0.6666666666666666, \"#ed7953\"], [0.7777777777777778, \"#fb9f3a\"], [0.8888888888888888, \"#fdca26\"], [1.0, \"#f0f921\"]], \"sequentialminus\": [[0.0, \"#0d0887\"], [0.1111111111111111, \"#46039f\"], [0.2222222222222222, \"#7201a8\"], [0.3333333333333333, \"#9c179e\"], [0.4444444444444444, \"#bd3786\"], [0.5555555555555556, \"#d8576b\"], [0.6666666666666666, \"#ed7953\"], [0.7777777777777778, \"#fb9f3a\"], [0.8888888888888888, \"#fdca26\"], [1.0, \"#f0f921\"]]}, \"colorway\": [\"#636efa\", \"#EF553B\", \"#00cc96\", \"#ab63fa\", \"#FFA15A\", \"#19d3f3\", \"#FF6692\", \"#B6E880\", \"#FF97FF\", \"#FECB52\"], \"font\": {\"color\": \"#2a3f5f\"}, \"geo\": {\"bgcolor\": \"white\", \"lakecolor\": \"white\", \"landcolor\": \"#E5ECF6\", \"showlakes\": true, \"showland\": true, \"subunitcolor\": \"white\"}, \"hoverlabel\": {\"align\": \"left\"}, \"hovermode\": \"closest\", \"mapbox\": {\"style\": \"light\"}, \"paper_bgcolor\": \"white\", \"plot_bgcolor\": \"#E5ECF6\", \"polar\": {\"angularaxis\": {\"gridcolor\": \"white\", \"linecolor\": \"white\", \"ticks\": \"\"}, \"bgcolor\": \"#E5ECF6\", \"radialaxis\": {\"gridcolor\": \"white\", \"linecolor\": \"white\", \"ticks\": \"\"}}, \"scene\": {\"xaxis\": {\"backgroundcolor\": \"#E5ECF6\", \"gridcolor\": \"white\", \"gridwidth\": 2, \"linecolor\": \"white\", \"showbackground\": true, \"ticks\": \"\", \"zerolinecolor\": \"white\"}, \"yaxis\": {\"backgroundcolor\": \"#E5ECF6\", \"gridcolor\": \"white\", \"gridwidth\": 2, \"linecolor\": \"white\", \"showbackground\": true, \"ticks\": \"\", \"zerolinecolor\": \"white\"}, \"zaxis\": {\"backgroundcolor\": \"#E5ECF6\", \"gridcolor\": \"white\", \"gridwidth\": 2, \"linecolor\": \"white\", \"showbackground\": true, \"ticks\": \"\", \"zerolinecolor\": \"white\"}}, \"shapedefaults\": {\"line\": {\"color\": \"#2a3f5f\"}}, \"ternary\": {\"aaxis\": {\"gridcolor\": \"white\", \"linecolor\": \"white\", \"ticks\": \"\"}, \"baxis\": {\"gridcolor\": \"white\", \"linecolor\": \"white\", \"ticks\": \"\"}, \"bgcolor\": \"#E5ECF6\", \"caxis\": {\"gridcolor\": \"white\", \"linecolor\": \"white\", \"ticks\": \"\"}}, \"title\": {\"x\": 0.05}, \"xaxis\": {\"automargin\": true, \"gridcolor\": \"white\", \"linecolor\": \"white\", \"ticks\": \"\", \"title\": {\"standoff\": 15}, \"zerolinecolor\": \"white\", \"zerolinewidth\": 2}, \"yaxis\": {\"automargin\": true, \"gridcolor\": \"white\", \"linecolor\": \"white\", \"ticks\": \"\", \"title\": {\"standoff\": 15}, \"zerolinecolor\": \"white\", \"zerolinewidth\": 2}}}},\n",
              "                        {\"responsive\": true}\n",
              "                    ).then(function(){\n",
              "                            \n",
              "var gd = document.getElementById('828410ab-b2e0-45d2-9551-8287d6031dfb');\n",
              "var x = new MutationObserver(function (mutations, observer) {{\n",
              "        var display = window.getComputedStyle(gd).display;\n",
              "        if (!display || display === 'none') {{\n",
              "            console.log([gd, 'removed!']);\n",
              "            Plotly.purge(gd);\n",
              "            observer.disconnect();\n",
              "        }}\n",
              "}});\n",
              "\n",
              "// Listen for the removal of the full notebook cells\n",
              "var notebookContainer = gd.closest('#notebook-container');\n",
              "if (notebookContainer) {{\n",
              "    x.observe(notebookContainer, {childList: true});\n",
              "}}\n",
              "\n",
              "// Listen for the clearing of the current output cell\n",
              "var outputEl = gd.closest('.output');\n",
              "if (outputEl) {{\n",
              "    x.observe(outputEl, {childList: true});\n",
              "}}\n",
              "\n",
              "                        })\n",
              "                };\n",
              "                \n",
              "            </script>\n",
              "        </div>\n",
              "</body>\n",
              "</html>"
            ]
          },
          "metadata": {
            "tags": []
          }
        }
      ]
    },
    {
      "cell_type": "markdown",
      "metadata": {
        "id": "0YxZB6PT5r-H"
      },
      "source": [
        "Comparaison des différents algorithmes utilisés et de leurs temps de fitting et prediction sur 800 échantillons par genre pour un total de 8800. \n",
        "\n",
        "Les temps de fitting sont ce qui change le plus, l'algorithme le plus lent (random forest sur TF-IDF avec prédicteurs extras) a pris près de 1000 fois plus de temps à s'exécuter que le plus rapide. Le temps de prédiction ne varie pas autant, variant de moins d'une seconde à environ 4 secondes.\n",
        "\n",
        "En termes d'*accuracy*, le meilleur algorithme a environ 15 points de pourcentage de plus que le pire, soit une augmentation de près de 75%.\n",
        "\n",
        "Les 'prédicteurs extras' utilisés deux fois sont `year` et `length`. Dans les deux cas, on voit une légère augmentation de l'accuracy par rapport au même algorithme sans ces prédicteurs. Dans le cas du *Naive Bayes*, l'augmentation est minime, soit 0.2 points de pourcentage (moins de 1% relatif) ce qui pourrait être entièrement attribuable au hasard. Le *random forest* gagne 2 points de pourcentage, soit une augmentation relative de 6%."
      ],
      "id": "0YxZB6PT5r-H"
    },
    {
      "cell_type": "markdown",
      "metadata": {
        "id": "zqSzVCarBNsR"
      },
      "source": [
        "Qu'on tienne compte ou pas de la représentation numérique utilisée pour les données, certaines tendances ressortent du tableau. Par exemple, le *decision tree* a systématiquement une moins bonne accuracy que les deux autres algorithmes. Il était attendu que le *random forest* obtienne de meilleurs résultats puisqu'il s'agit de plusieurs *decision trees*, mais aucune telle hypothèse avait été posée pour le *naive bayes*.\n",
        "\n",
        "D'ailleurs, le *naive bayes* semble généralement être aussi voire plus accurate que le *random forest*  tout en étant beaucoup plus rapide. En effet, avec n=800, *naive bayes* a une accuracy relative environ 7% plus élevée que le *random forest* mais s'exécute en environ 1/30e du temps, une différence énorme. \n",
        "\n",
        "De plus, le temps d'exécution du *random forest* augmente beaucoup plus rapidement que celui du *naive bayes* lorsque l'on augmente le nombre de samples, sans nécessairement que l'accuracy augmente beaucoup. Ainsi, le *naive* bayes semble réellement le meilleur algorithme dans notre situation."
      ],
      "id": "zqSzVCarBNsR"
    }
  ]
}