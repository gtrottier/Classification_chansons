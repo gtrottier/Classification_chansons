{
 "cells": [
  {
   "cell_type": "code",
   "execution_count": 1,
   "id": "amber-pound",
   "metadata": {},
   "outputs": [],
   "source": [
    "import pandas as pd\n",
    "import  matplotlib.pyplot as plt\n",
    "import numpy as np\n",
    "import nltk\n",
    "from sklearn.feature_extraction.text import TfidfVectorizer\n"
   ]
  },
  {
   "cell_type": "code",
   "execution_count": 2,
   "id": "directed-arizona",
   "metadata": {},
   "outputs": [],
   "source": [
    "df = pd.read_csv('english_cleaned_lyrics.csv')"
   ]
  },
  {
   "cell_type": "code",
   "execution_count": 3,
   "id": "innocent-configuration",
   "metadata": {},
   "outputs": [],
   "source": [
    "df.drop(columns='Unnamed: 0', inplace = True)\n",
    "df.drop(columns='index', inplace = True)"
   ]
  },
  {
   "cell_type": "code",
   "execution_count": 4,
   "id": "administrative-favor",
   "metadata": {},
   "outputs": [
    {
     "data": {
      "text/html": [
       "<div>\n",
       "<style scoped>\n",
       "    .dataframe tbody tr th:only-of-type {\n",
       "        vertical-align: middle;\n",
       "    }\n",
       "\n",
       "    .dataframe tbody tr th {\n",
       "        vertical-align: top;\n",
       "    }\n",
       "\n",
       "    .dataframe thead th {\n",
       "        text-align: right;\n",
       "    }\n",
       "</style>\n",
       "<table border=\"1\" class=\"dataframe\">\n",
       "  <thead>\n",
       "    <tr style=\"text-align: right;\">\n",
       "      <th></th>\n",
       "      <th>song</th>\n",
       "      <th>year</th>\n",
       "      <th>artist</th>\n",
       "      <th>genre</th>\n",
       "      <th>lyrics</th>\n",
       "    </tr>\n",
       "  </thead>\n",
       "  <tbody>\n",
       "    <tr>\n",
       "      <th>0</th>\n",
       "      <td>ego-remix</td>\n",
       "      <td>2009</td>\n",
       "      <td>beyonce-knowles</td>\n",
       "      <td>Pop</td>\n",
       "      <td>Oh baby how you doing You know I'm gonna cut r...</td>\n",
       "    </tr>\n",
       "    <tr>\n",
       "      <th>1</th>\n",
       "      <td>then-tell-me</td>\n",
       "      <td>2009</td>\n",
       "      <td>beyonce-knowles</td>\n",
       "      <td>Pop</td>\n",
       "      <td>playin everything so easy it's like you seem s...</td>\n",
       "    </tr>\n",
       "    <tr>\n",
       "      <th>2</th>\n",
       "      <td>honesty</td>\n",
       "      <td>2009</td>\n",
       "      <td>beyonce-knowles</td>\n",
       "      <td>Pop</td>\n",
       "      <td>If you search For tenderness It isn't hard to ...</td>\n",
       "    </tr>\n",
       "    <tr>\n",
       "      <th>3</th>\n",
       "      <td>you-are-my-rock</td>\n",
       "      <td>2009</td>\n",
       "      <td>beyonce-knowles</td>\n",
       "      <td>Pop</td>\n",
       "      <td>Oh oh oh I oh oh oh I If I wrote a book about ...</td>\n",
       "    </tr>\n",
       "    <tr>\n",
       "      <th>4</th>\n",
       "      <td>black-culture</td>\n",
       "      <td>2009</td>\n",
       "      <td>beyonce-knowles</td>\n",
       "      <td>Pop</td>\n",
       "      <td>Party the people the people the party it's pop...</td>\n",
       "    </tr>\n",
       "    <tr>\n",
       "      <th>...</th>\n",
       "      <td>...</td>\n",
       "      <td>...</td>\n",
       "      <td>...</td>\n",
       "      <td>...</td>\n",
       "      <td>...</td>\n",
       "    </tr>\n",
       "    <tr>\n",
       "      <th>218205</th>\n",
       "      <td>who-am-i-drinking-tonight</td>\n",
       "      <td>2012</td>\n",
       "      <td>edens-edge</td>\n",
       "      <td>Country</td>\n",
       "      <td>I gotta say Boy after only just a couple of da...</td>\n",
       "    </tr>\n",
       "    <tr>\n",
       "      <th>218206</th>\n",
       "      <td>liar</td>\n",
       "      <td>2012</td>\n",
       "      <td>edens-edge</td>\n",
       "      <td>Country</td>\n",
       "      <td>I helped you find her diamond ring You made me...</td>\n",
       "    </tr>\n",
       "    <tr>\n",
       "      <th>218207</th>\n",
       "      <td>last-supper</td>\n",
       "      <td>2012</td>\n",
       "      <td>edens-edge</td>\n",
       "      <td>Country</td>\n",
       "      <td>Look at the couple in the corner booth Looks a...</td>\n",
       "    </tr>\n",
       "    <tr>\n",
       "      <th>218208</th>\n",
       "      <td>christ-alone-live-in-studio</td>\n",
       "      <td>2012</td>\n",
       "      <td>edens-edge</td>\n",
       "      <td>Country</td>\n",
       "      <td>When I fly off this mortal earth And I'm measu...</td>\n",
       "    </tr>\n",
       "    <tr>\n",
       "      <th>218209</th>\n",
       "      <td>amen</td>\n",
       "      <td>2012</td>\n",
       "      <td>edens-edge</td>\n",
       "      <td>Country</td>\n",
       "      <td>I heard from a friend of a friend of a friend ...</td>\n",
       "    </tr>\n",
       "  </tbody>\n",
       "</table>\n",
       "<p>218210 rows × 5 columns</p>\n",
       "</div>"
      ],
      "text/plain": [
       "                               song  year           artist    genre  \\\n",
       "0                         ego-remix  2009  beyonce-knowles      Pop   \n",
       "1                      then-tell-me  2009  beyonce-knowles      Pop   \n",
       "2                           honesty  2009  beyonce-knowles      Pop   \n",
       "3                   you-are-my-rock  2009  beyonce-knowles      Pop   \n",
       "4                     black-culture  2009  beyonce-knowles      Pop   \n",
       "...                             ...   ...              ...      ...   \n",
       "218205    who-am-i-drinking-tonight  2012       edens-edge  Country   \n",
       "218206                         liar  2012       edens-edge  Country   \n",
       "218207                  last-supper  2012       edens-edge  Country   \n",
       "218208  christ-alone-live-in-studio  2012       edens-edge  Country   \n",
       "218209                         amen  2012       edens-edge  Country   \n",
       "\n",
       "                                                   lyrics  \n",
       "0       Oh baby how you doing You know I'm gonna cut r...  \n",
       "1       playin everything so easy it's like you seem s...  \n",
       "2       If you search For tenderness It isn't hard to ...  \n",
       "3       Oh oh oh I oh oh oh I If I wrote a book about ...  \n",
       "4       Party the people the people the party it's pop...  \n",
       "...                                                   ...  \n",
       "218205  I gotta say Boy after only just a couple of da...  \n",
       "218206  I helped you find her diamond ring You made me...  \n",
       "218207  Look at the couple in the corner booth Looks a...  \n",
       "218208  When I fly off this mortal earth And I'm measu...  \n",
       "218209  I heard from a friend of a friend of a friend ...  \n",
       "\n",
       "[218210 rows x 5 columns]"
      ]
     },
     "metadata": {},
     "output_type": "display_data"
    }
   ],
   "source": [
    "display(df)"
   ]
  },
  {
   "cell_type": "code",
   "execution_count": 5,
   "id": "hidden-commissioner",
   "metadata": {},
   "outputs": [
    {
     "data": {
      "text/plain": [
       "song      1\n",
       "year      0\n",
       "artist    0\n",
       "genre     0\n",
       "lyrics    0\n",
       "dtype: int64"
      ]
     },
     "metadata": {},
     "output_type": "display_data"
    },
    {
     "data": {
      "text/html": [
       "<div>\n",
       "<style scoped>\n",
       "    .dataframe tbody tr th:only-of-type {\n",
       "        vertical-align: middle;\n",
       "    }\n",
       "\n",
       "    .dataframe tbody tr th {\n",
       "        vertical-align: top;\n",
       "    }\n",
       "\n",
       "    .dataframe thead th {\n",
       "        text-align: right;\n",
       "    }\n",
       "</style>\n",
       "<table border=\"1\" class=\"dataframe\">\n",
       "  <thead>\n",
       "    <tr style=\"text-align: right;\">\n",
       "      <th></th>\n",
       "      <th>song</th>\n",
       "      <th>year</th>\n",
       "      <th>artist</th>\n",
       "      <th>genre</th>\n",
       "      <th>lyrics</th>\n",
       "    </tr>\n",
       "  </thead>\n",
       "  <tbody>\n",
       "    <tr>\n",
       "      <th>116724</th>\n",
       "      <td>NaN</td>\n",
       "      <td>2009</td>\n",
       "      <td>booker-t-and-the-mg-s</td>\n",
       "      <td>Jazz</td>\n",
       "      <td>All right people the rest of the hard working ...</td>\n",
       "    </tr>\n",
       "  </tbody>\n",
       "</table>\n",
       "</div>"
      ],
      "text/plain": [
       "       song  year                 artist genre  \\\n",
       "116724  NaN  2009  booker-t-and-the-mg-s  Jazz   \n",
       "\n",
       "                                                   lyrics  \n",
       "116724  All right people the rest of the hard working ...  "
      ]
     },
     "execution_count": 5,
     "metadata": {},
     "output_type": "execute_result"
    }
   ],
   "source": [
    "display(df.isnull().sum())\n",
    "df[df.isnull().any(axis=1)]"
   ]
  },
  {
   "cell_type": "markdown",
   "id": "increasing-warrior",
   "metadata": {},
   "source": [
    "Un seul NaN dans tout le tableau, on peut le drop sans aucun problème car nous avons beaucoup de données."
   ]
  },
  {
   "cell_type": "code",
   "execution_count": 6,
   "id": "collectible-anderson",
   "metadata": {},
   "outputs": [],
   "source": [
    "df = df.drop(index= 116724)"
   ]
  },
  {
   "cell_type": "code",
   "execution_count": 7,
   "id": "extreme-florence",
   "metadata": {},
   "outputs": [
    {
     "data": {
      "text/plain": [
       "genre\n",
       "Rock          100053\n",
       "Pop            34137\n",
       "Hip-Hop        22654\n",
       "Metal          21210\n",
       "Country        14158\n",
       "Jazz            7309\n",
       "Electronic      6942\n",
       "Other           3786\n",
       "R&B             3336\n",
       "Indie           2935\n",
       "Folk            1689\n",
       "dtype: int64"
      ]
     },
     "metadata": {},
     "output_type": "display_data"
    }
   ],
   "source": [
    "display(df.value_counts(df['genre']))"
   ]
  },
  {
   "cell_type": "markdown",
   "id": "dominican-promotion",
   "metadata": {},
   "source": [
    "Le nombre de chansons des différents genres varie beaucoup, quelques uns en ont beaucoup plus que d'autres, particulièrement Rock.\n",
    "Si on entraîne un modèle sur ces données, on risquerait d'avoir un gros biais pour ces genres. On devrait donc rendre le set un peu plus 'équilibré'. Pour que ce soit réellement équilibré on doit perdre beaucoup d'entrées, mais j'espère que 1500 par genre reste assez."
   ]
  },
  {
   "cell_type": "code",
   "execution_count": 8,
   "id": "western-photograph",
   "metadata": {},
   "outputs": [
    {
     "data": {
      "text/plain": [
       "51370     a little bitty of croonin a little bitty of sp...\n",
       "112608    a little song a little dance a little seltzer ...\n",
       "196290    if i wake up in the morning when i look outsid...\n",
       "117823    yes she's my lady luck hey i'm her wild card m...\n",
       "207724    candy kisses wrapped in paper mean more to you...\n",
       "                                ...                        \n",
       "34831     i'm not sure is it how you would say yes your ...\n",
       "40411     everybody everybody said hello every reason ev...\n",
       "214411    i've sharpened all my tools i follow all the r...\n",
       "96571     oh i ain't joking when i'm telling ya that whi...\n",
       "203366    where i come from silvery trees diamond on lea...\n",
       "Name: lyrics, Length: 16500, dtype: object"
      ]
     },
     "execution_count": 8,
     "metadata": {},
     "output_type": "execute_result"
    }
   ],
   "source": [
    "df_sample = df.groupby('genre').sample(1500, random_state = 42)\n",
    "#tout en minuscules\n",
    "df_sample['lyrics'].str.lower()"
   ]
  },
  {
   "cell_type": "code",
   "execution_count": 9,
   "id": "saved-pakistan",
   "metadata": {},
   "outputs": [],
   "source": [
    "stopwords = nltk.corpus.stopwords.words('english')\n",
    "\n",
    "df_sample['tokenized'] = df_sample.apply(lambda row: nltk.word_tokenize(row['lyrics']), axis=1)"
   ]
  },
  {
   "cell_type": "code",
   "execution_count": 10,
   "id": "exciting-experience",
   "metadata": {},
   "outputs": [],
   "source": [
    "df_sample['tokenized'] = df_sample['tokenized'].apply(lambda x : [word for word in x if word not in stopwords])\n"
   ]
  },
  {
   "cell_type": "code",
   "execution_count": 14,
   "id": "dated-cherry",
   "metadata": {},
   "outputs": [
    {
     "data": {
      "text/plain": [
       "scipy.sparse.csr.csr_matrix"
      ]
     },
     "execution_count": 14,
     "metadata": {},
     "output_type": "execute_result"
    }
   ],
   "source": [
    "v = TfidfVectorizer()\n",
    "x = v.fit_transform(df_sample['lyrics'])\n"
   ]
  },
  {
   "cell_type": "code",
   "execution_count": 16,
   "id": "parallel-laptop",
   "metadata": {},
   "outputs": [
    {
     "data": {
      "text/plain": [
       "(16500, 51315)"
      ]
     },
     "execution_count": 16,
     "metadata": {},
     "output_type": "execute_result"
    }
   ],
   "source": []
  },
  {
   "cell_type": "code",
   "execution_count": null,
   "id": "double-creation",
   "metadata": {},
   "outputs": [],
   "source": []
  }
 ],
 "metadata": {
  "kernelspec": {
   "display_name": "Python 3",
   "language": "python",
   "name": "python3"
  },
  "language_info": {
   "codemirror_mode": {
    "name": "ipython",
    "version": 3
   },
   "file_extension": ".py",
   "mimetype": "text/x-python",
   "name": "python",
   "nbconvert_exporter": "python",
   "pygments_lexer": "ipython3",
   "version": "3.7.9"
  }
 },
 "nbformat": 4,
 "nbformat_minor": 5
}
